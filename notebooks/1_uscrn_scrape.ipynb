{
 "cells": [
  {
   "attachments": {},
   "cell_type": "markdown",
   "metadata": {},
   "source": [
    "### USCRN Data: Historical Baseline\n",
    "\n",
    "This notebook explains and contains the initial scrape, transform, and upload of the USCRN weather data to BigQuery and Google Cloud Storage. This dataset will serve as the benchmark for the NWS forecast data. \n",
    "\n",
    "The DAG contained in `airflow/dags/uscrn_dag.py` is set to periodically update the BigQuery table created by this notebook, as is the cloud function in `notebooks/uscrn_update_gcf/`"
   ]
  },
  {
   "cell_type": "code",
   "execution_count": 2,
   "metadata": {},
   "outputs": [],
   "source": [
    "import requests\n",
    "import pandas as pd \n",
    "import numpy as np\n",
    "import re\n",
    "import itertools\n",
    "from yaml import full_load\n",
    "import datetime as dt\n",
    "from bs4 import BeautifulSoup\n",
    "\n",
    "with open (\"../airflow/dags/config/sources.yaml\", \"r\") as fp:\n",
    "  sources = full_load(fp)"
   ]
  },
  {
   "attachments": {},
   "cell_type": "markdown",
   "metadata": {},
   "source": [
    "#### 1.) Column Headers and Descriptions\n",
    "\n",
    "To save on storage space, USCRN omits column names in its main data tables and stores them in a separate text file ([headers.txt](https://www.ncei.noaa.gov/pub/data/uscrn/products/hourly02/headers.txt)). We'll scrape these first before tackling the main data."
   ]
  },
  {
   "cell_type": "code",
   "execution_count": 2,
   "metadata": {},
   "outputs": [
    {
     "data": {
      "text/plain": [
       "\"The station WBAN number. The UTC date of the observation. The UTC time of the observation. Time is the end of the observed hour, so the 0000 hour is actually the last hour of the previous day's observation (starting just after 11:00 PM through midnight). The Local Standard Time (LST) date of the observation. The Local Standard Time (LST) time of the observation. Time is the end of the observed hour (see UTC_TIME description). The version number of the station datalogger program that was in effect at the time of the observation. Note: This field should be treated as text (i.e. string). Station longitude, using WGS-84. Station latitude, using WGS-84. Average air temperature, in degrees C, during the last 5 minutes of the hour. See Note F. Average air temperature, in degrees C, for the entire hour. See Note F. Maximum air temperature, in degrees C, during the hour. See Note F. Minimum air temperature, in degrees C, during the hour. See Note F. Total amount of precipitation, in mm, recorded during the hour. See Note F. Average global solar radiation, in watts/meter^2. QC flag for average global solar radiation. See Note G. Maximum global solar radiation, in watts/meter^2. QC flag for maximum global solar radiation. See Note G. Minimum global solar radiation, in watts/meter^2. QC flag for minimum global solar radiation. See Note G. Type of infrared surface temperature measurement: 'R' denotes raw (uncorrected), 'C' denotes corrected, and 'U' when unknown/missing. See Note H. Average infrared surface temperature, in degrees C. See Note H. QC flag for infrared surface temperature. See Note G. Maximum infrared surface temperature, in degrees C. QC flag for infrared surface temperature maximum. See Note G. Minimum infrared surface temperature, in degrees C. QC flag for infrared surface temperature minimum. See Note G. RH average for hour, in percentage. See Note I. QC flag for RH average. See Note G. Average soil moisture at 5 cm below the surface, in m^3/m^3. See Note K. Average soil moisture at 10 cm below the surface, in m^3/m^3. See Note K. Average soil moisture at 20 cm below the surface, in m^3/m^3. See Note K. Average soil moisture at 50 cm below the surface, in m^3/m^3. See Note K. Average soil moisture at 100 cm below the surface, in m^3/m^3. See Note K. Average soil temperature at 5 cm below the surface, in degrees C. See Note K. Average soil temperature at 10 cm below the surface, in degrees C. See Note K. Average soil temperature at 20 cm below the surface, in degrees C. See Note K. Average soil temperature at 50 cm below the surface, in degrees C. See Note K. Average soil temperature at 100 cm below the surface, in degrees C. See Note K. \""
      ]
     },
     "execution_count": 2,
     "metadata": {},
     "output_type": "execute_result"
    }
   ],
   "source": [
    "url = sources['USCRN']['headers']\n",
    "response = requests.get(url)\n",
    "soup = BeautifulSoup(response.content, \"html.parser\")\n",
    "\n",
    "columns = str(soup).split(\"\\n\")[1].strip(\" \").split(\" \")\n",
    "columns = [str.lower(c) for c in columns] \n",
    "columns.insert(0,'station_location')\n",
    "\n",
    "descrip_text = str(soup).split(\"\\n\")[2] # raw text block containing column descriptions\n",
    "descrip_text"
   ]
  },
  {
   "attachments": {},
   "cell_type": "markdown",
   "metadata": {},
   "source": [
    "The descriptions of the columns are quite the mess, as there is no standard separator used. We will have to work our way through it step by step: "
   ]
  },
  {
   "cell_type": "code",
   "execution_count": 3,
   "metadata": {},
   "outputs": [
    {
     "data": {
      "text/plain": [
       "[\"The station WBAN number. The UTC date of the observation. The UTC time of the observation. Time is the end of the observed hour, so the 0000 hour is actually the last hour of the previous day's observation (starting just after 11:00 PM through midnight)\",\n",
       " 'The Local Standard Time (LST) date of the observation. The Local Standard Time (LST) time of the observation. Time is the end of the observed hour (see UTC_TIME description)',\n",
       " 'The version number of the station datalogger program that was in effect at the time of the observation. Note: This field should be treated as text (i.e. string)',\n",
       " \"Station longitude, using WGS-84. Station latitude, using WGS-84. Average air temperature, in degrees C, during the last 5 minutes of the hour. Average air temperature, in degrees C, for the entire hour. Maximum air temperature, in degrees C, during the hour. Minimum air temperature, in degrees C, during the hour. Total amount of precipitation, in mm, recorded during the hour. Average global solar radiation, in watts/meter^2. QC flag for average global solar radiation. Maximum global solar radiation, in watts/meter^2. QC flag for maximum global solar radiation. Minimum global solar radiation, in watts/meter^2. QC flag for minimum global solar radiation. Type of infrared surface temperature measurement: 'R' denotes raw (uncorrected), 'C' denotes corrected, and 'U' when unknown/missing. Average infrared surface temperature, in degrees C. QC flag for infrared surface temperature. Maximum infrared surface temperature, in degrees C. QC flag for infrared surface temperature maximum. Minimum infrared surface temperature, in degrees C. QC flag for infrared surface temperature minimum. RH average for hour, in percentage. QC flag for RH average. Average soil moisture at 5 cm below the surface, in m^3/m^3. Average soil moisture at 10 cm below the surface, in m^3/m^3. Average soil moisture at 20 cm below the surface, in m^3/m^3. Average soil moisture at 50 cm below the surface, in m^3/m^3. Average soil moisture at 100 cm below the surface, in m^3/m^3. Average soil temperature at 5 cm below the surface, in degrees C. Average soil temperature at 10 cm below the surface, in degrees C. Average soil temperature at 20 cm below the surface, in degrees C. Average soil temperature at 50 cm below the surface, in degrees C. Average soil temperature at 100 cm below the surface, in degrees C. \"]"
      ]
     },
     "execution_count": 3,
     "metadata": {},
     "output_type": "execute_result"
    }
   ],
   "source": [
    "def close_parens(s:str):\n",
    "    \"\"\"uses regex to replace closing parenthesis ')' after it's removed from .split()\"\"\"\n",
    "    unclosed_paren = re.compile(r'(\\([^)]*)$') \n",
    "    return re.sub(unclosed_paren, r\"\\1)\", s) \n",
    "\n",
    "first_split = map(close_parens, descrip_text.split(\"). \"))\n",
    "\n",
    "no_notes = [re.sub(r' See Note [A-Z]\\.',\"\",s) for s in first_split]\n",
    "no_notes"
   ]
  },
  {
   "attachments": {},
   "cell_type": "markdown",
   "metadata": {},
   "source": [
    "The third entry in `no_notes` is ready (it's a single string belonging to a single column). The last set of descriptions in `no_notes` can be split on `\". \"`, but the first two sets need special attention. We will pop the last set out and split it, then pop the third set out, and then address the first two sets. At that point we will recombine everything into one list while preserving the original order. "
   ]
  },
  {
   "cell_type": "code",
   "execution_count": 4,
   "metadata": {},
   "outputs": [],
   "source": [
    "last_set = no_notes.pop().strip().split(\". \")\n",
    "third_set = no_notes.pop() # just a string"
   ]
  },
  {
   "cell_type": "code",
   "execution_count": 5,
   "metadata": {},
   "outputs": [
    {
     "data": {
      "text/plain": [
       "['Location name for USCRN station',\n",
       " 'The station WBAN number',\n",
       " 'The UTC date of the observation',\n",
       " \"The UTC time of the observation at the end of the observed hour, so the 0000 hour is actually the last hour of the previous day's observation (starting just after 11:00 PM through midnight)\",\n",
       " 'The Local Standard Time (LST) date of the observation']"
      ]
     },
     "execution_count": 5,
     "metadata": {},
     "output_type": "execute_result"
    }
   ],
   "source": [
    "def flatten(ls:list): \n",
    "  \"\"\"Flattens/unnests a list of lists\"\"\"\n",
    "  return list(itertools.chain.from_iterable(ls)) \n",
    "\n",
    "no_notes = [re.sub(\". Time is\", \" at\", s) for s in no_notes] # rephrase description so we can split on sentences\n",
    "\n",
    "first_second = flatten([s.split(\". \") for s in no_notes]) \n",
    "\n",
    "# Finally:\n",
    "descriptions = flatten([first_second, [third_set], last_set]) \n",
    "descriptions.insert(0,\"Location name for USCRN station\") # Description added for \"station_location\" \n",
    "descriptions[0:5]"
   ]
  },
  {
   "attachments": {},
   "cell_type": "markdown",
   "metadata": {},
   "source": [
    "The [readme](https://www.ncei.noaa.gov/pub/data/uscrn/products/hourly02/readme.txt) also contains information on the units of each column:"
   ]
  },
  {
   "cell_type": "code",
   "execution_count": 6,
   "metadata": {},
   "outputs": [
    {
     "data": {
      "text/plain": [
       "['1    WBANNO                         XXXXX',\n",
       " '2    UTC_DATE                       YYYYMMDD',\n",
       " '3    UTC_TIME                       HHmm',\n",
       " '4    LST_DATE                       YYYYMMDD',\n",
       " '5    LST_TIME                       HHmm',\n",
       " '6    CRX_VN                         XXXXXX',\n",
       " '7    LONGITUDE                      Decimal_degrees',\n",
       " '8    LATITUDE                       Decimal_degrees',\n",
       " '9    T_CALC                         Celsius',\n",
       " '10   T_HR_AVG                       Celsius',\n",
       " '11   T_MAX                          Celsius',\n",
       " '12   T_MIN                          Celsius',\n",
       " '13   P_CALC                         mm',\n",
       " '14   SOLARAD                        W/m^2',\n",
       " '15   SOLARAD_FLAG                   X',\n",
       " '16   SOLARAD_MAX                    W/m^2',\n",
       " '17   SOLARAD_MAX_FLAG               X',\n",
       " '18   SOLARAD_MIN                    W/m^2',\n",
       " '19   SOLARAD_MIN_FLAG               X',\n",
       " '20   SUR_TEMP_TYPE                  X',\n",
       " '21   SUR_TEMP                       Celsius',\n",
       " '22   SUR_TEMP_FLAG                  X',\n",
       " '23   SUR_TEMP_MAX                   Celsius',\n",
       " '24   SUR_TEMP_MAX_FLAG              X',\n",
       " '25   SUR_TEMP_MIN                   Celsius',\n",
       " '26   SUR_TEMP_MIN_FLAG              X',\n",
       " '27   RH_HR_AVG                      %',\n",
       " '28   RH_HR_AVG_FLAG                 X',\n",
       " '29   SOIL_MOISTURE_5                m^3/m^3',\n",
       " '30   SOIL_MOISTURE_10               m^3/m^3',\n",
       " '31   SOIL_MOISTURE_20               m^3/m^3',\n",
       " '32   SOIL_MOISTURE_50               m^3/m^3',\n",
       " '33   SOIL_MOISTURE_100              m^3/m^3',\n",
       " '34   SOIL_TEMP_5                    Celsius',\n",
       " '35   SOIL_TEMP_10                   Celsius',\n",
       " '36   SOIL_TEMP_20                   Celsius',\n",
       " '37   SOIL_TEMP_50                   Celsius',\n",
       " '38   SOIL_TEMP_100                  Celsius']"
      ]
     },
     "execution_count": 6,
     "metadata": {},
     "output_type": "execute_result"
    }
   ],
   "source": [
    "url = sources['USCRN']['readme']\n",
    "response = requests.get(url)\n",
    "soup = BeautifulSoup(response.content, \"html.parser\")\n",
    "\n",
    "lines = [line.strip() for line in str(soup).split(\"\\n\")]\n",
    "table_idx = lines.index(\"Field#  Name                           Units\") # 252\n",
    "table = lines[table_idx+2:table_idx+40]\n",
    "table"
   ]
  },
  {
   "cell_type": "code",
   "execution_count": 7,
   "metadata": {},
   "outputs": [
    {
     "data": {
      "text/html": [
       "<div>\n",
       "<style scoped>\n",
       "    .dataframe tbody tr th:only-of-type {\n",
       "        vertical-align: middle;\n",
       "    }\n",
       "\n",
       "    .dataframe tbody tr th {\n",
       "        vertical-align: top;\n",
       "    }\n",
       "\n",
       "    .dataframe thead th {\n",
       "        text-align: right;\n",
       "    }\n",
       "</style>\n",
       "<table border=\"1\" class=\"dataframe\">\n",
       "  <thead>\n",
       "    <tr style=\"text-align: right;\">\n",
       "      <th></th>\n",
       "      <th>name</th>\n",
       "      <th>description</th>\n",
       "      <th>units</th>\n",
       "    </tr>\n",
       "  </thead>\n",
       "  <tbody>\n",
       "    <tr>\n",
       "      <th>0</th>\n",
       "      <td>station_location</td>\n",
       "      <td>Location name for USCRN station</td>\n",
       "      <td>X+ (Various Lengths)</td>\n",
       "    </tr>\n",
       "    <tr>\n",
       "      <th>1</th>\n",
       "      <td>wbanno</td>\n",
       "      <td>The station WBAN number</td>\n",
       "      <td>XXXXX</td>\n",
       "    </tr>\n",
       "    <tr>\n",
       "      <th>2</th>\n",
       "      <td>utc_date</td>\n",
       "      <td>The UTC date of the observation</td>\n",
       "      <td>YYYYMMDD</td>\n",
       "    </tr>\n",
       "    <tr>\n",
       "      <th>3</th>\n",
       "      <td>utc_time</td>\n",
       "      <td>The UTC time of the observation at the end of ...</td>\n",
       "      <td>HHmm</td>\n",
       "    </tr>\n",
       "    <tr>\n",
       "      <th>4</th>\n",
       "      <td>lst_date</td>\n",
       "      <td>The Local Standard Time (LST) date of the obse...</td>\n",
       "      <td>YYYYMMDD</td>\n",
       "    </tr>\n",
       "  </tbody>\n",
       "</table>\n",
       "</div>"
      ],
      "text/plain": [
       "               name                                        description  \\\n",
       "0  station_location                    Location name for USCRN station   \n",
       "1            wbanno                            The station WBAN number   \n",
       "2          utc_date                    The UTC date of the observation   \n",
       "3          utc_time  The UTC time of the observation at the end of ...   \n",
       "4          lst_date  The Local Standard Time (LST) date of the obse...   \n",
       "\n",
       "                  units  \n",
       "0  X+ (Various Lengths)  \n",
       "1                 XXXXX  \n",
       "2              YYYYMMDD  \n",
       "3                  HHmm  \n",
       "4              YYYYMMDD  "
      ]
     },
     "execution_count": 7,
     "metadata": {},
     "output_type": "execute_result"
    }
   ],
   "source": [
    "# Get units with regex lookbehind\n",
    "regex = re.compile(r\"(?<=\\s{5})[^\\s']+\") # enough \\s to exclude column names\n",
    "units = re.findall(regex, str(table))\n",
    "\n",
    "# Add unit for \"station_location\" column\n",
    "units.insert(0, \"X+ (Various Lengths)\") \n",
    "\n",
    "header_info = {\n",
    "  'name': columns,\n",
    "  'description': descriptions, \n",
    "  'units': units\n",
    "}\n",
    "header_df = pd.DataFrame(header_info)\n",
    "\n",
    "header_df.head(5)"
   ]
  },
  {
   "attachments": {},
   "cell_type": "markdown",
   "metadata": {},
   "source": [
    "#### 2.) Main Data (>2 million rows)"
   ]
  },
  {
   "attachments": {},
   "cell_type": "markdown",
   "metadata": {},
   "source": [
    "You might find that trying to create a dataframe from a nested list of 2 million rows risks crashing the Jupyter IPython Kernel. I've since refactored my code with recursion and batch processing to reduce memory load.\n",
    "\n",
    "The full script to scrape, transform, and save the data is available in `notebooks/uscrn_helper_scripts/uscrn_scrape_main.py`. I've imported the main function from there in the next cell so you can run it here. But it's likely better to execute the script in a separate terminal (`$ python3.7 uscrn_scrape.py`). "
   ]
  },
  {
   "cell_type": "code",
   "execution_count": 1,
   "metadata": {},
   "outputs": [],
   "source": [
    "import os\n",
    "from utils.utils import get_station_location, get_soup, get_file_urls\n",
    "# Refer to the script to see what these helper functions are doing\n",
    "\n",
    "output_file=\"../data/uscrn.csv\"\n",
    "\n",
    "columns = header_df['name']\n",
    "\n",
    "if os.path.isfile(output_file):\n",
    "  raise Exception(f\"{output_file} already exists\")\n",
    "\n",
    "def process_rows(file_urls, row_limit, output_file) -> None:\n",
    "  \"\"\"\n",
    "  Processes a batch of rows from a list of URLs to extract weather station data and save it to a CSV file.\n",
    "\n",
    "  Args:\n",
    "    file_urls (list): A list of URLs where weather station data can be found.\n",
    "    row_limit (int): The maximum number of rows to process per batch.\n",
    "    output_file (str): The path to the output CSV file.\n",
    "  Returns:\n",
    "    None\n",
    "  \"\"\"\n",
    "  # Get rows for current batch\n",
    "  rows = []\n",
    "  current_idx=0\n",
    "  for i, url in enumerate(file_urls[current_idx:]):\n",
    "    # Get location from url\n",
    "    station_location = get_station_location(url)\n",
    "    # Get new rows \n",
    "    soup = get_soup(url, delay=1)\n",
    "    soup_lines = [station_location + \" \" + line for line in str(soup).strip().split(\"\\n\")]\n",
    "    new_rows = [re.split('\\s+', row) for row in soup_lines]\n",
    "    # Add to list\n",
    "    rows.extend(new_rows)\n",
    "    if len(rows) >= row_limit:\n",
    "      current_idx=i\n",
    "      break\n",
    "\n",
    "  # Define column names -- same as from header_df['name']\n",
    "  columns = ['station_location','wbanno','utc_date','utc_time','lst_date','lst_time','crx_vn','longitude','latitude',\n",
    "  't_calc','t_hr_avg','t_max','t_min','p_calc','solarad','solarad_flag','solarad_max','solarad_max_flag','solarad_min',\n",
    "  'solarad_min_flag','sur_temp_type','sur_temp','sur_temp_flag','sur_temp_max','sur_temp_max_flag','sur_temp_min',\n",
    "  'sur_temp_min_flag','rh_hr_avg','rh_hr_avg_flag','soil_moisture_5','soil_moisture_10','soil_moisture_20',\n",
    "  'soil_moisture_50','soil_moisture_100','soil_temp_5','soil_temp_10','soil_temp_20','soil_temp_50','soil_temp_100']\n",
    "  \n",
    "  # Create dataframe for current batch\n",
    "  df = pd.DataFrame(rows, columns=columns)\n",
    "\n",
    "  #### --- Transform dataframe --- #### \n",
    "\n",
    "  df.replace([-99999,-9999], np.nan, inplace=True) \n",
    "  df.replace({'crx_vn':{-9:np.nan}}, inplace=True)\n",
    "\n",
    "  # Drop soil columns -- vast majority have missing data \n",
    "  df = df.filter(regex=\"^((?!soil).)*$\")\n",
    "\n",
    "  # convert to datetimes\n",
    "  df['utc_datetime'] = pd.to_datetime(df['utc_date'].astype(int).astype(str) + df['utc_time'].astype(int).astype(str).str.zfill(4), format='%Y%m%d%H%M')\n",
    "  df['lst_datetime'] = pd.to_datetime(df['lst_date'].astype(int).astype(str) + df['lst_time'].astype(int).astype(str).str.zfill(4), format='%Y%m%d%H%M')\n",
    "\n",
    "  # drop old date and time columns\n",
    "  df.drop(['utc_date', 'utc_time', 'lst_date', 'lst_time'], axis=1, inplace=True)\n",
    "\n",
    "  # reorder columns \n",
    "  cols = ['station_location','wbanno','crx_vn','utc_datetime','lst_datetime'] + list(df.columns)[3:-2]\n",
    "  df = df[cols]\n",
    "\n",
    "  #### -------------------------- #####\n",
    "\n",
    "  # Write dataframe to CSV\n",
    "  hdr = False if os.path.isfile(output_file) else True\n",
    "  df.to_csv(\"../data/uscrn.csv\", mode=\"a+\", header=hdr, index=False)\n",
    "\n",
    "\n",
    "  # if os.path.isfile(output_file):\n",
    "  #     df.to_csv(output_file, mode='a', header=False, index=False)\n",
    "  #     del df\n",
    "  # else:\n",
    "  #   with open(output_file, \"w\") as fp:\n",
    "  #     df.to_csv(fp, index=False)\n",
    "  #     del df\n",
    "  \n",
    "  # Recursively process remaining rows     \n",
    "  if len(rows) >= row_limit:\n",
    "      remaining_urls = file_urls[current_idx:]\n",
    "      process_rows(remaining_urls, row_limit, output_file)\n",
    "  else: \n",
    "      return \n",
    "    \n",
    "process_rows(file_urls=get_file_urls(\"hourly02\"), row_limit=100000, output_file=output_file)"
   ]
  },
  {
   "attachments": {},
   "cell_type": "markdown",
   "metadata": {},
   "source": [
    "Let's also save tables containing supplemental information:"
   ]
  },
  {
   "attachments": {},
   "cell_type": "markdown",
   "metadata": {},
   "source": [
    "*Location information*"
   ]
  },
  {
   "cell_type": "code",
   "execution_count": 9,
   "metadata": {},
   "outputs": [],
   "source": [
    "location_cols = ['station_location', 'wbanno', 'longitude', 'latitude']\n",
    "df = pd.read_csv(\"../data/uscrn.csv\", usecols=location_cols)\n",
    "df.drop_duplicates(inplace=True)\n",
    "df.reset_index(drop=True, inplace=True)\n",
    "df.to_csv(\"../data/locations.csv\", index=False)"
   ]
  },
  {
   "attachments": {},
   "cell_type": "markdown",
   "metadata": {},
   "source": [
    "*Column descriptions*"
   ]
  },
  {
   "cell_type": "code",
   "execution_count": 10,
   "metadata": {},
   "outputs": [],
   "source": [
    "names = pd.read_csv(\"../data/uscrn.csv\", nrows=1)\n",
    "df = pd.DataFrame(list(names.columns), columns=[\"name\"]) # transposing \n",
    "\n",
    "# Join to column description dataframe we made in previous section\n",
    "df = df.merge(header_df, how=\"left\")\n",
    "\n",
    "# Datetime columns were added by transform_dataframe() -- need to fill in missing values \n",
    "df['units'].fillna(\"YYYY-MM-DD HH:MM:SS\", inplace=True) \n",
    "\n",
    "df['description'][df['name'] == 'utc_datetime'] = \"UTC datetime of observation\"\n",
    "df['description'][df['name'] == 'lst_datetime'] = \"Local standard datetime of observation (AKST)\"\n",
    "df['description'][df['name'] == 'date_added_utc'] = \"Datetime added to usrcn.csv (UTC)\"\n",
    "\n",
    "# Add 'type' columns -- useful for setting table schema in next section\n",
    "def map_type(unit:str):\n",
    "  \"\"\"Map unit to datatype\"\"\"\n",
    "  if \"X\" in unit:\n",
    "    return \"STRING\"\n",
    "  elif \"Y\" in unit:\n",
    "    return \"DATETIME\"\n",
    "  else: \n",
    "    return \"FLOAT\"\n",
    "  \n",
    "df['type'] = df['units'].map(map_type)\n",
    "\n",
    "# Write to .csv\n",
    "df.to_csv(\"../data/column_descriptions.csv\", index=False)"
   ]
  },
  {
   "attachments": {},
   "cell_type": "markdown",
   "metadata": {},
   "source": [
    "#### 3.) Wind Data (*20 million* rows!)\n",
    "\n",
    "For some reason, the USCRN hourly database (`hourly02`) does not include windspeed measurements. This information is only included in the sub-hourly database (`subhourly01`). \n",
    "\n",
    "The amount of the data is so large here that even the batch processing method we just used isn't enough to avoid exceeding memory limits -- the garbage collector is not adequately clearing the memory on every pass. We instead write all the raw data directly to .csv before reading it back into memory and transforming it:"
   ]
  },
  {
   "cell_type": "code",
   "execution_count": null,
   "metadata": {},
   "outputs": [],
   "source": [
    "import csv\n",
    "\n",
    "def write_raw_rows(file_urls, output_file) -> None:\n",
    "  \"\"\"\n",
    "  Args:\n",
    "    file_urls (list): List of text file urls\n",
    "    output_file (str): The path to the output CSV file.\n",
    "\n",
    "  Returns:\n",
    "    None\n",
    "  \"\"\"\n",
    "\n",
    "  if os.path.isfile(output_file):\n",
    "    raise Exception(f\"{output_file} already exists\")\n",
    "\n",
    "  for url in file_urls:\n",
    "    # Get location from url\n",
    "    station_location = get_station_location(url)\n",
    "    # Get new rows \n",
    "    soup = get_soup(url, delay=.5)\n",
    "    lines = [re.split('\\s+', line) for line in str(soup).strip().splitlines()]\n",
    "    # We're only scraping this data for the wind information, so we ignore rows that don't have any (i.e wind < 0)\n",
    "    wind_cols = [[station_location] + line[:5] + line[-2:] for line in lines if float(line[-2]) >= 0]\n",
    "    # Write rows to CSV\n",
    "    if wind_cols:\n",
    "      with open(output_file, \"a+\") as f:\n",
    "        writer = csv.writer(f)\n",
    "        writer.writerows(wind_cols)\n",
    "      del wind_cols\n",
    "\n",
    "subhourly_files = get_file_urls(\"subhourly01\")\n",
    "\n",
    "write_raw_rows(file_urls=subhourly_files, output_file=\"../data/uscrn_wind_raw.csv\")"
   ]
  },
  {
   "attachments": {},
   "cell_type": "markdown",
   "metadata": {},
   "source": [
    "Since we want to aggregate the sub-hourly measurements by hour, we can't read the data in chunks (otherwise we will skew averages for hours that were partially read-in)."
   ]
  },
  {
   "cell_type": "code",
   "execution_count": null,
   "metadata": {},
   "outputs": [],
   "source": [
    "## Read the data  \n",
    "colnames = ['station_location','wbanno','utc_date','utc_time',\n",
    "  'lst_date','lst_time',\"wind_1_5\", \"wind_flag\"]\n",
    "\n",
    "df = pd.read_csv(\"../data/uscrn_wind_raw.csv\", names=colnames) \n",
    " \n",
    "## Transformations\n",
    "df['wind_1_5'] = df['wind_1_5'].astype(float)\n",
    "\n",
    "# convert to datetimes\n",
    "df['utc_datetime'] = pd.to_datetime(df['utc_date'].astype(int).astype(str) + df['utc_time'].astype(int).astype(str).str.zfill(4), format='%Y%m%d%H%M')\n",
    "df['lst_datetime'] = pd.to_datetime(df['lst_date'].astype(int).astype(str) + df['lst_time'].astype(int).astype(str).str.zfill(4), format='%Y%m%d%H%M')\n",
    "\n",
    "# round to nearest hour \n",
    "df['utc_datetime'] = df['utc_datetime'].dt.floor(\"H\")\n",
    "df['lst_datetime'] = df['lst_datetime'].dt.floor(\"H\")\n",
    "\n",
    "# drop poor quality data (wind_flag == 3: roughly 1.9% of rows)\n",
    "df = df[df['wind_flag'] == 0]\n",
    "df.drop(\"wind_flag\", axis=1, inplace=True)\n",
    "\n",
    "# aggregate by hour\n",
    "df = df.groupby(['station_location','wbanno','utc_datetime','lst_datetime','wind_flag'])['wind_1_5'].mean().reset_index()\n",
    "df.rename({\"wind_1_5\":\"wind_hr_avg\"}, axis=1, inplace=True)\n",
    "\n",
    "## Write to csv\n",
    "df.to_csv(\"../data/uscrn_wind_agg.csv\")"
   ]
  },
  {
   "attachments": {},
   "cell_type": "markdown",
   "metadata": {},
   "source": [
    "#### 4.) Upload to BigQuery "
   ]
  },
  {
   "cell_type": "markdown",
   "metadata": {},
   "source": [
    "**Main Data**"
   ]
  },
  {
   "cell_type": "code",
   "execution_count": 21,
   "metadata": {},
   "outputs": [],
   "source": [
    "# Create dataset \n",
    "with open(\"../airflow/dags/config/gcp-config.yaml\", \"r\") as fp:\n",
    "  gcp_config = full_load(fp) \n",
    "\n",
    "# !bq mk -d --location=us-east4 {gcp_config['project-id']}:{gcp_config['dataset-id']}"
   ]
  },
  {
   "cell_type": "code",
   "execution_count": 3,
   "metadata": {},
   "outputs": [
    {
     "name": "stdout",
     "output_type": "stream",
     "text": [
      "[{'name': 'station_location', 'description': 'Location name for USCRN station', 'type': 'STRING', 'mode': 'REQUIRED'}, {'name': 'wbanno', 'description': 'The station WBAN number', 'type': 'STRING', 'mode': 'REQUIRED'}, {'name': 'crx_vn', 'description': 'The version number of the station datalogger program that was in effect at the time of the observation. Note: This field should be treated as text (i.e. string)', 'type': 'STRING', 'mode': 'NULLABLE'}, {'name': 'utc_datetime', 'description': 'UTC datetime of observation', 'type': 'DATETIME', 'mode': 'REQUIRED'}, {'name': 'lst_datetime', 'description': 'Local standard datetime of observation (AKST)', 'type': 'DATETIME', 'mode': 'REQUIRED'}, {'name': 'longitude', 'description': 'Station longitude, using WGS-84', 'type': 'FLOAT', 'mode': 'REQUIRED'}]\n"
     ]
    }
   ],
   "source": [
    "# Set schema \n",
    "header_df = pd.read_csv(\"../data/column_descriptions.csv\")\n",
    "header_df.drop(\"units\", axis=1, inplace=True)\n",
    "\n",
    "required_fields = ['station_location', 'wbanno', 'utc_datetime', 'lst_datetime', 'longitude', 'latitude', 'date_added_utc']\n",
    "\n",
    "header_df['mode'] = np.where(header_df['name'].isin(required_fields), \"REQUIRED\", \"NULLABLE\")\n",
    "\n",
    "schema = header_df.to_dict(orient='records')\n",
    "\n",
    "print(schema[0:6]) "
   ]
  },
  {
   "cell_type": "code",
   "execution_count": 22,
   "metadata": {},
   "outputs": [],
   "source": [
    "from google.cloud import bigquery\n",
    "from google.oauth2 import service_account\n",
    "\n",
    "key_path = gcp_config['credentials']\n",
    "credentials = service_account.Credentials.from_service_account_file(\n",
    "   key_path, scopes=[\"https://www.googleapis.com/auth/cloud-platform\"],\n",
    ")\n",
    "\n",
    "client = bigquery.Client(credentials=credentials, project=credentials.project_id)\n",
    "\n",
    "PROJECT_ID = gcp_config['project-id']\n",
    "DATASET_ID = gcp_config['dataset-id']\n",
    "table_id = f\"{PROJECT_ID}.{DATASET_ID}.uscrn\"\n",
    "\n",
    "jc = bigquery.LoadJobConfig(\n",
    "   source_format = bigquery.SourceFormat.CSV,\n",
    "   skip_leading_rows=1,\n",
    "   autodetect=False,\n",
    "   schema=schema,\n",
    "   create_disposition=\"CREATE_IF_NEEDED\",\n",
    "   write_disposition=\"WRITE_TRUNCATE\", \n",
    "   destination_table_description=\"Historical weather data from USCRN stations in Alaska\"\n",
    ")\n",
    "\n",
    "# job = client.load_table_from_dataframe(df, table_id, job_config=jc)\n",
    "\n",
    "with open(\"../data/uscrn.csv\", \"rb\") as fp: \n",
    "  job = client.load_table_from_file(fp, table_id, job_config=jc)\n",
    "job.result()\n",
    "\n",
    "job.result()"
   ]
  },
  {
   "cell_type": "markdown",
   "metadata": {},
   "source": [
    "**Wind Data**"
   ]
  },
  {
   "cell_type": "code",
   "execution_count": 7,
   "metadata": {},
   "outputs": [
    {
     "name": "stdout",
     "output_type": "stream",
     "text": [
      "[{'name': 'station_location', 'description': 'Location name for USCRN station', 'type': 'STRING', 'mode': 'REQUIRED'}, {'name': 'wbanno', 'description': 'The station WBAN number', 'type': 'STRING', 'mode': 'REQUIRED'}, {'name': 'utc_datetime', 'description': 'UTC datetime of observation', 'type': 'DATETIME', 'mode': 'REQUIRED'}, {'name': 'lst_datetime', 'description': 'Local standard datetime of observation (AKST)', 'type': 'DATETIME', 'mode': 'REQUIRED'}, 'wind_flag', 'wind_schema']\n"
     ]
    }
   ],
   "source": [
    "wind_schema = schema[0:2] + schema[3:5] + ['wind_flag', 'wind_schema']\n",
    "print(wind_schema)"
   ]
  },
  {
   "cell_type": "code",
   "execution_count": null,
   "metadata": {},
   "outputs": [],
   "source": [
    "jc = bigquery.LoadJobConfig(\n",
    "   source_format = bigquery.SourceFormat.CSV,\n",
    "   skip_leading_rows=1,\n",
    "   autodetect=False,\n",
    "   schema=wind_schema,\n",
    "   create_disposition=\"CREATE_IF_NEEDED\",\n",
    "   write_disposition=\"WRITE_TRUNCATE\", \n",
    "   destination_table_description=\"Hourly wind data from USCRN stations, aggregated from 5 minute measurements\"\n",
    ")\n",
    "\n",
    "table_id = f\"{PROJECT_ID}.{DATASET_ID}.uscrn_wind\" \n",
    "\n",
    "with open(\"../data/uscrn_wind.csv\", \"rb\") as fp:\n",
    "    job = client.load_table_from_file(fp, table_id, job_config=jc)"
   ]
  },
  {
   "attachments": {},
   "cell_type": "markdown",
   "metadata": {},
   "source": [
    "**Supplemental Data** (Locations and Column Description tables)"
   ]
  },
  {
   "cell_type": "code",
   "execution_count": 21,
   "metadata": {},
   "outputs": [
    {
     "data": {
      "text/plain": [
       "LoadJob<project=alaska-scrape, location=us-east4, id=e2fe472f-ee3b-424f-ac0f-a14ccc5ff26b>"
      ]
     },
     "execution_count": 21,
     "metadata": {},
     "output_type": "execute_result"
    }
   ],
   "source": [
    "# Locations table\n",
    "table_id = f\"{PROJECT_ID}.{DATASET_ID}.locations\"\n",
    "\n",
    "jc = bigquery.LoadJobConfig(\n",
    "  source_format = bigquery.SourceFormat.CSV,\n",
    "  autodetect=True,\n",
    "  create_disposition=\"CREATE_IF_NEEDED\",\n",
    "  write_disposition=\"WRITE_TRUNCATE\", \n",
    "  destination_table_description=\"Location names, WBANNO codes, and coordinates for USCRN stations in Alaska\"\n",
    ")\n",
    "\n",
    "with open(\"../data/locations.csv\", \"rb\") as fp: \n",
    "  job = client.load_table_from_file(fp, table_id, job_config=jc)\n",
    "job.result()"
   ]
  },
  {
   "cell_type": "code",
   "execution_count": 25,
   "metadata": {},
   "outputs": [
    {
     "data": {
      "text/plain": [
       "LoadJob<project=alaska-scrape, location=us-east4, id=0a834079-f8cf-484b-96dc-1ee70a55c464>"
      ]
     },
     "execution_count": 25,
     "metadata": {},
     "output_type": "execute_result"
    }
   ],
   "source": [
    "# Column description table \n",
    "table_id = f\"{PROJECT_ID}.{DATASET_ID}.column_descriptions\"\n",
    "\n",
    "schema = [ # Col headers not being autodetected\n",
    "  bigquery.SchemaField(\"name\", \"STRING\", mode=\"REQUIRED\"), \n",
    "  bigquery.SchemaField(\"description\", \"STRING\", mode=\"REQUIRED\"), \n",
    "  bigquery.SchemaField(\"units\", \"STRING\", mode=\"REQUIRED\"),\n",
    "  bigquery.SchemaField(\"type\", \"STRING\", mode=\"REQUIRED\")\n",
    "]\n",
    "\n",
    "jc = bigquery.LoadJobConfig(\n",
    "  source_format = bigquery.SourceFormat.CSV,\n",
    "  skip_leading_rows=1,\n",
    "  autodetect=False,\n",
    "  create_disposition=\"CREATE_IF_NEEDED\",\n",
    "  write_disposition=\"WRITE_TRUNCATE\", \n",
    "  destination_table_description=f\"Column descriptions for fields in {DATASET_ID}.uscrn\", \n",
    "  schema=schema\n",
    ")\n",
    "\n",
    "with open(\"../data/column_descriptions.csv\", \"rb\") as fp: \n",
    "  job = client.load_table_from_file(fp, table_id, job_config=jc)\n",
    "job.result()"
   ]
  },
  {
   "attachments": {},
   "cell_type": "markdown",
   "metadata": {},
   "source": [
    "Lastly, let's also upload these smaller tables to Google Cloud Storage. When we create our Google Cloud Functions (see `gcf/`) it will be easier to read them from there than from BigQuery."
   ]
  },
  {
   "cell_type": "code",
   "execution_count": null,
   "metadata": {},
   "outputs": [],
   "source": [
    "!gsutil mb -p {PROJECT_ID} -b on -l us-east4 gs://{PROJECT_ID}-bucket\n",
    "!gsutil cp ../data/locations.csv gs://{PROJECT_ID}-bucket\n",
    "!gsutil cp ../data/column_descriptions.csv gs://{PROJECT_ID}-bucket"
   ]
  },
  {
   "cell_type": "code",
   "execution_count": 15,
   "metadata": {},
   "outputs": [
    {
     "name": "stdout",
     "output_type": "stream",
     "text": [
      "      2252  2023-02-26T17:52:09Z  gs://alaska-scrape-bucket/column_descriptions.csv\n",
      "       706  2023-02-26T17:51:54Z  gs://alaska-scrape-bucket/locations.csv\n",
      "TOTAL: 2 objects, 2958 bytes (2.89 KiB)\n"
     ]
    }
   ],
   "source": [
    "!gsutil ls -l gs://{PROJECT_ID}-bucket "
   ]
  },
  {
   "attachments": {},
   "cell_type": "markdown",
   "metadata": {},
   "source": [
    "#### 5.) Updating Data \n",
    "\n",
    "So far we've scraped, transformed, and uploaded all available data from the USCRN database. For our regularly-running script we'll only want to scrape the newest data we don't have yet. See `airflow/dags/uscrn_dag.py` for an example of how to do this."
   ]
  },
  {
   "cell_type": "code",
   "execution_count": null,
   "metadata": {},
   "outputs": [],
   "source": [
    "def get_wind_updates(url:str) -> dict: \n",
    "  \"\"\"Get wind updates from the subhourly data set\"\"\""
   ]
  },
  {
   "cell_type": "code",
   "execution_count": 8,
   "metadata": {},
   "outputs": [],
   "source": [
    "url = \"https://www.ncei.noaa.gov/pub/data/uscrn/products/subhourly01/2023/CRNS0101-05-2023-AK_Aleknagik_1_NNE.txt\"\n",
    "response = requests.get(url)\n",
    "soup = BeautifulSoup(response.content, \"html.parser\")"
   ]
  },
  {
   "cell_type": "code",
   "execution_count": 57,
   "metadata": {},
   "outputs": [],
   "source": [
    "def get_latest_date_hour() -> tuple: # String representation of datetime\n",
    "  \"\"\"Reads/returns latest 'utc_datetime' value from wind table\"\"\"\n",
    "  \n",
    "  query = f\"\"\"\n",
    "  SELECT utc_datetime \n",
    "  FROM weather.uscrn\n",
    "  ORDER BY utc_datetime DESC LIMIT 1\n",
    "  \"\"\"\n",
    "  query_job = client.query(query)\n",
    "  result = query_job.result()\n",
    "\n",
    "  row = next(result)\n",
    "  latest_datetime = row['utc_datetime']\n",
    "  latest_date = dt.datetime.strftime(latest_datetime, format=\"%Y%m%d\")\n",
    "  latest_hour= dt.datetime.strftime(latest_datetime, format=\"%H%M\")\n",
    "\n",
    "\n",
    "  return int(latest_date), int(latest_hour)"
   ]
  },
  {
   "cell_type": "code",
   "execution_count": 60,
   "metadata": {},
   "outputs": [],
   "source": [
    "latest_date, latest_hour = get_latest_date_hour()"
   ]
  },
  {
   "cell_type": "code",
   "execution_count": 80,
   "metadata": {},
   "outputs": [],
   "source": [
    "new_rows = [line.split() for line in str(soup).strip().splitlines() if int(line[6:14]) > latest_date and int(line[15:19]) > latest_hour] \n",
    "wind_cols = [['station_location'] + line[:5] + line[-2:] for line in new_rows]\n"
   ]
  },
  {
   "cell_type": "code",
   "execution_count": 81,
   "metadata": {},
   "outputs": [
    {
     "data": {
      "text/html": [
       "<div>\n",
       "<style scoped>\n",
       "    .dataframe tbody tr th:only-of-type {\n",
       "        vertical-align: middle;\n",
       "    }\n",
       "\n",
       "    .dataframe tbody tr th {\n",
       "        vertical-align: top;\n",
       "    }\n",
       "\n",
       "    .dataframe thead th {\n",
       "        text-align: right;\n",
       "    }\n",
       "</style>\n",
       "<table border=\"1\" class=\"dataframe\">\n",
       "  <thead>\n",
       "    <tr style=\"text-align: right;\">\n",
       "      <th></th>\n",
       "      <th>station_location</th>\n",
       "      <th>wbanno</th>\n",
       "      <th>utc_date</th>\n",
       "      <th>utc_time</th>\n",
       "      <th>lst_date</th>\n",
       "      <th>lst_time</th>\n",
       "      <th>wind_1_5</th>\n",
       "      <th>wind_flag</th>\n",
       "    </tr>\n",
       "  </thead>\n",
       "  <tbody>\n",
       "    <tr>\n",
       "      <th>0</th>\n",
       "      <td>station_location</td>\n",
       "      <td>23583</td>\n",
       "      <td>20230226</td>\n",
       "      <td>2005</td>\n",
       "      <td>20230226</td>\n",
       "      <td>1105</td>\n",
       "      <td>1.24</td>\n",
       "      <td>0</td>\n",
       "    </tr>\n",
       "    <tr>\n",
       "      <th>1</th>\n",
       "      <td>station_location</td>\n",
       "      <td>23583</td>\n",
       "      <td>20230226</td>\n",
       "      <td>2010</td>\n",
       "      <td>20230226</td>\n",
       "      <td>1110</td>\n",
       "      <td>0.70</td>\n",
       "      <td>0</td>\n",
       "    </tr>\n",
       "    <tr>\n",
       "      <th>2</th>\n",
       "      <td>station_location</td>\n",
       "      <td>23583</td>\n",
       "      <td>20230226</td>\n",
       "      <td>2015</td>\n",
       "      <td>20230226</td>\n",
       "      <td>1115</td>\n",
       "      <td>0.07</td>\n",
       "      <td>0</td>\n",
       "    </tr>\n",
       "    <tr>\n",
       "      <th>3</th>\n",
       "      <td>station_location</td>\n",
       "      <td>23583</td>\n",
       "      <td>20230226</td>\n",
       "      <td>2020</td>\n",
       "      <td>20230226</td>\n",
       "      <td>1120</td>\n",
       "      <td>0.04</td>\n",
       "      <td>0</td>\n",
       "    </tr>\n",
       "    <tr>\n",
       "      <th>4</th>\n",
       "      <td>station_location</td>\n",
       "      <td>23583</td>\n",
       "      <td>20230226</td>\n",
       "      <td>2025</td>\n",
       "      <td>20230226</td>\n",
       "      <td>1125</td>\n",
       "      <td>0.09</td>\n",
       "      <td>0</td>\n",
       "    </tr>\n",
       "    <tr>\n",
       "      <th>...</th>\n",
       "      <td>...</td>\n",
       "      <td>...</td>\n",
       "      <td>...</td>\n",
       "      <td>...</td>\n",
       "      <td>...</td>\n",
       "      <td>...</td>\n",
       "      <td>...</td>\n",
       "      <td>...</td>\n",
       "    </tr>\n",
       "    <tr>\n",
       "      <th>242</th>\n",
       "      <td>station_location</td>\n",
       "      <td>23583</td>\n",
       "      <td>20230303</td>\n",
       "      <td>2040</td>\n",
       "      <td>20230303</td>\n",
       "      <td>1140</td>\n",
       "      <td>2.32</td>\n",
       "      <td>0</td>\n",
       "    </tr>\n",
       "    <tr>\n",
       "      <th>243</th>\n",
       "      <td>station_location</td>\n",
       "      <td>23583</td>\n",
       "      <td>20230303</td>\n",
       "      <td>2045</td>\n",
       "      <td>20230303</td>\n",
       "      <td>1145</td>\n",
       "      <td>1.63</td>\n",
       "      <td>0</td>\n",
       "    </tr>\n",
       "    <tr>\n",
       "      <th>244</th>\n",
       "      <td>station_location</td>\n",
       "      <td>23583</td>\n",
       "      <td>20230303</td>\n",
       "      <td>2050</td>\n",
       "      <td>20230303</td>\n",
       "      <td>1150</td>\n",
       "      <td>1.71</td>\n",
       "      <td>0</td>\n",
       "    </tr>\n",
       "    <tr>\n",
       "      <th>245</th>\n",
       "      <td>station_location</td>\n",
       "      <td>23583</td>\n",
       "      <td>20230303</td>\n",
       "      <td>2055</td>\n",
       "      <td>20230303</td>\n",
       "      <td>1155</td>\n",
       "      <td>0.49</td>\n",
       "      <td>0</td>\n",
       "    </tr>\n",
       "    <tr>\n",
       "      <th>246</th>\n",
       "      <td>station_location</td>\n",
       "      <td>23583</td>\n",
       "      <td>20230303</td>\n",
       "      <td>2100</td>\n",
       "      <td>20230303</td>\n",
       "      <td>1200</td>\n",
       "      <td>0.61</td>\n",
       "      <td>0</td>\n",
       "    </tr>\n",
       "  </tbody>\n",
       "</table>\n",
       "<p>247 rows × 8 columns</p>\n",
       "</div>"
      ],
      "text/plain": [
       "     station_location wbanno  utc_date utc_time  lst_date lst_time wind_1_5  \\\n",
       "0    station_location  23583  20230226     2005  20230226     1105     1.24   \n",
       "1    station_location  23583  20230226     2010  20230226     1110     0.70   \n",
       "2    station_location  23583  20230226     2015  20230226     1115     0.07   \n",
       "3    station_location  23583  20230226     2020  20230226     1120     0.04   \n",
       "4    station_location  23583  20230226     2025  20230226     1125     0.09   \n",
       "..                ...    ...       ...      ...       ...      ...      ...   \n",
       "242  station_location  23583  20230303     2040  20230303     1140     2.32   \n",
       "243  station_location  23583  20230303     2045  20230303     1145     1.63   \n",
       "244  station_location  23583  20230303     2050  20230303     1150     1.71   \n",
       "245  station_location  23583  20230303     2055  20230303     1155     0.49   \n",
       "246  station_location  23583  20230303     2100  20230303     1200     0.61   \n",
       "\n",
       "    wind_flag  \n",
       "0           0  \n",
       "1           0  \n",
       "2           0  \n",
       "3           0  \n",
       "4           0  \n",
       "..        ...  \n",
       "242         0  \n",
       "243         0  \n",
       "244         0  \n",
       "245         0  \n",
       "246         0  \n",
       "\n",
       "[247 rows x 8 columns]"
      ]
     },
     "execution_count": 81,
     "metadata": {},
     "output_type": "execute_result"
    }
   ],
   "source": [
    "columns = ['station_location','wbanno','utc_date','utc_time',\n",
    "'lst_date','lst_time',\"wind_1_5\", \"wind_flag\"]\n",
    "\n",
    "pd.DataFrame(wind_cols, columns=columns)"
   ]
  },
  {
   "cell_type": "code",
   "execution_count": 72,
   "metadata": {},
   "outputs": [
    {
     "name": "stdout",
     "output_type": "stream",
     "text": [
      "[['23583', '20230226', '2005', '20230226', '1105', '2.514', '-158.61', '59.28', '-8.7', '0.0', '188', '0', '-12.9', 'C', '0', '90', '0', '-99.000', '-9999.0', '1243', '0', '1.24', '0'], ['23583', '20230226', '2010', '20230226', '1110', '2.514', '-158.61', '59.28', '-8.8', '0.0', '194', '0', '-12.5', 'C', '0', '90', '0', '-99.000', '-9999.0', '1245', '0', '0.70', '0'], ['23583', '20230226', '2015', '20230226', '1115', '2.514', '-158.61', '59.28', '-8.2', '0.0', '202', '0', '-12.2', 'C', '0', '91', '0', '-99.000', '-9999.0', '1245', '0', '0.07', '0'], ['23583', '20230226', '2020', '20230226', '1120', '2.514', '-158.61', '59.28', '-7.9', '0.0', '211', '0', '-12.1', 'C', '0', '92', '0', '-99.000', '-9999.0', '1245', '0', '0.04', '0'], ['23583', '20230226', '2025', '20230226', '1125', '2.514', '-158.61', '59.28', '-7.6', '0.0', '219', '0', '-11.9', 'C', '0', '91', '0', '-99.000', '-9999.0', '1247', '0', '0.09', '0']]\n"
     ]
    }
   ],
   "source": [
    "print(new_lines[0:5])"
   ]
  },
  {
   "cell_type": "code",
   "execution_count": 65,
   "metadata": {},
   "outputs": [
    {
     "data": {
      "text/plain": [
       "['23583 20230226 2005 20230226 1105  2.514 -158.61   59.28    -8.7     0.0    188 0   -12.9 C 0    90 0 -99.000 -9999.0  1243 0   1.24 0',\n",
       " '23583 20230226 2010 20230226 1110  2.514 -158.61   59.28    -8.8     0.0    194 0   -12.5 C 0    90 0 -99.000 -9999.0  1245 0   0.70 0',\n",
       " '23583 20230226 2015 20230226 1115  2.514 -158.61   59.28    -8.2     0.0    202 0   -12.2 C 0    91 0 -99.000 -9999.0  1245 0   0.07 0',\n",
       " '23583 20230226 2020 20230226 1120  2.514 -158.61   59.28    -7.9     0.0    211 0   -12.1 C 0    92 0 -99.000 -9999.0  1245 0   0.04 0',\n",
       " '23583 20230226 2025 20230226 1125  2.514 -158.61   59.28    -7.6     0.0    219 0   -11.9 C 0    91 0 -99.000 -9999.0  1247 0   0.09 0',\n",
       " '23583 20230226 2030 20230226 1130  2.514 -158.61   59.28    -7.4     0.0    227 0   -11.7 C 0    91 0 -99.000 -9999.0  1247 0   0.20 0',\n",
       " '23583 20230226 2035 20230226 1135  2.514 -158.61   59.28    -7.2     0.0    236 0   -11.6 C 0    90 0 -99.000 -9999.0  1246 0   0.25 0',\n",
       " '23583 20230226 2040 20230226 1140  2.514 -158.61   59.28    -6.8     0.0    245 0   -11.4 C 0    90 0 -99.000 -9999.0  1246 0   0.35 0',\n",
       " '23583 20230226 2045 20230226 1145  2.514 -158.61   59.28    -6.4     0.0    255 0   -11.2 C 0    88 0 -99.000 -9999.0  1246 0   0.38 0',\n",
       " '23583 20230226 2050 20230226 1150  2.514 -158.61   59.28    -6.4     0.0    266 0   -11.1 C 0    86 0 -99.000 -9999.0  1246 0   0.77 0',\n",
       " '23583 20230226 2055 20230226 1155  2.514 -158.61   59.28    -6.2     0.0    278 0   -10.9 C 0    84 0 -99.000 -9999.0  1246 0   0.49 0',\n",
       " '23583 20230226 2100 20230226 1200  2.514 -158.61   59.28    -6.2     0.0    289 0   -11.2 C 0    83 0 -99.000 -9999.0  1246 0   1.35 0',\n",
       " '23583 20230226 2105 20230226 1205  2.514 -158.61   59.28    -6.0     0.0    300 0   -10.3 C 0    83 0 -99.000 -9999.0  1226 0   0.39 0',\n",
       " '23583 20230226 2110 20230226 1210  2.514 -158.61   59.28    -5.7     0.0    305 0   -10.1 C 0    82 0 -99.000 -9999.0  1225 0   0.31 0',\n",
       " '23583 20230226 2115 20230226 1215  2.514 -158.61   59.28    -5.5     0.0    312 0   -10.3 C 0    82 0 -99.000 -9999.0  1242 0   0.97 0',\n",
       " '23583 20230226 2120 20230226 1220  2.514 -158.61   59.28    -5.5     0.0    319 0    -9.9 C 0    81 0 -99.000 -9999.0  1244 0   0.54 0',\n",
       " '23583 20230226 2125 20230226 1225  2.514 -158.61   59.28    -4.9     0.0    326 0    -9.4 C 0    79 0 -99.000 -9999.0  1245 0   0.06 0',\n",
       " '23583 20230226 2130 20230226 1230  2.514 -158.61   59.28    -4.6     0.0    332 0    -9.2 C 0    78 0 -99.000 -9999.0  1245 0   0.18 0',\n",
       " '23583 20230226 2135 20230226 1235  2.514 -158.61   59.28    -4.6     0.0    338 0    -9.2 C 0    78 0 -99.000 -9999.0  1245 0   0.29 0',\n",
       " '23583 20230226 2140 20230226 1240  2.514 -158.61   59.28    -4.6     0.0    349 0    -8.9 C 0    76 0 -99.000 -9999.0  1246 0   0.34 0',\n",
       " '23583 20230226 2145 20230226 1245  2.514 -158.61   59.28    -4.7     0.0    360 0    -8.8 C 0    75 0 -99.000 -9999.0  1246 0   0.36 0',\n",
       " '23583 20230226 2150 20230226 1250  2.514 -158.61   59.28    -4.8     0.0    277 0    -9.3 C 0    74 0 -99.000 -9999.0  1246 0   0.52 0',\n",
       " '23583 20230226 2155 20230226 1255  2.514 -158.61   59.28    -5.5     0.0    401 0    -8.7 C 0    76 0 -99.000 -9999.0  1246 0   0.83 0',\n",
       " '23583 20230226 2200 20230226 1300  2.514 -158.61   59.28    -4.3     0.0    320 0    -7.8 C 0    74 0 -99.000 -9999.0  1245 0   0.94 0',\n",
       " '23583 20230226 2205 20230226 1305  2.514 -158.61   59.28    -4.1     0.0    126 0    -9.5 C 0    71 0 -99.000 -9999.0  1246 0   0.67 0',\n",
       " '23583 20230226 2210 20230226 1310  2.514 -158.61   59.28    -4.5     0.0    116 0   -10.1 C 0    72 0 -99.000 -9999.0  1246 0   0.62 0',\n",
       " '23583 20230226 2215 20230226 1315  2.514 -158.61   59.28    -4.7     0.0     66 0   -10.6 C 0    73 0 -99.000 -9999.0  1244 0   0.77 0',\n",
       " '23583 20230226 2220 20230226 1320  2.514 -158.61   59.28    -4.5     0.0     73 0   -10.5 C 0    72 0 -99.000 -9999.0  1244 0   1.02 0',\n",
       " '23583 20230226 2225 20230226 1325  2.514 -158.61   59.28    -4.4     0.0    150 0   -10.4 C 0    70 0 -99.000 -9999.0  1244 0   1.20 0',\n",
       " '23583 20230226 2230 20230226 1330  2.514 -158.61   59.28    -4.1     0.0     93 0    -9.9 C 0    69 0 -99.000 -9999.0  1242 0   1.69 0',\n",
       " '23583 20230226 2235 20230226 1335  2.514 -158.61   59.28    -4.2     0.0    186 0   -10.1 C 0    68 0 -99.000 -9999.0  1243 0   0.88 0',\n",
       " '23583 20230226 2240 20230226 1340  2.514 -158.61   59.28    -3.7     0.0    388 0    -8.0 C 0    65 0 -99.000 -9999.0  1244 0   1.37 0',\n",
       " '23583 20230226 2245 20230226 1345  2.514 -158.61   59.28    -3.5     0.0    402 0    -7.4 C 0    62 0 -99.000 -9999.0  1243 0   1.38 0',\n",
       " '23583 20230226 2250 20230226 1350  2.514 -158.61   59.28    -3.7     0.0    168 0    -9.0 C 0    61 0 -99.000 -9999.0  1242 0   1.92 0',\n",
       " '23583 20230226 2255 20230226 1355  2.514 -158.61   59.28    -3.6     0.0    399 0    -7.8 C 0    61 0 -99.000 -9999.0  1240 0   1.81 0',\n",
       " '23583 20230226 2300 20230226 1400  2.514 -158.61   59.28    -3.4     0.0    394 0    -7.3 C 0    60 0 -99.000 -9999.0  1241 0   2.01 0',\n",
       " '23583 20230226 2305 20230226 1405  2.514 -158.61   59.28    -3.5     0.0    393 0    -7.2 C 0    59 0 -99.000 -9999.0  1241 0   2.17 0',\n",
       " '23583 20230226 2310 20230226 1410  2.514 -158.61   59.28    -3.6     0.0    392 0    -7.2 C 0    60 0 -99.000 -9999.0  1240 0   2.45 0',\n",
       " '23583 20230226 2315 20230226 1415  2.514 -158.61   59.28    -3.6     0.0    392 0    -7.2 C 0    60 0 -99.000 -9999.0  1237 0   2.58 0',\n",
       " '23583 20230226 2320 20230226 1420  2.514 -158.61   59.28    -3.8     0.0    391 0    -7.2 C 0    59 0 -99.000 -9999.0  1240 0   2.87 0',\n",
       " '23583 20230226 2325 20230226 1425  2.514 -158.61   59.28    -3.9     0.0    390 0    -7.3 C 0    58 0 -99.000 -9999.0  1238 0   2.76 0',\n",
       " '23583 20230226 2330 20230226 1430  2.514 -158.61   59.28    -4.0     0.0    389 0    -7.3 C 0    58 0 -99.000 -9999.0  1240 0   2.84 0',\n",
       " '23583 20230226 2335 20230226 1435  2.514 -158.61   59.28    -4.1     0.0    388 0    -7.3 C 0    57 0 -99.000 -9999.0  1240 0   2.60 0',\n",
       " '23583 20230226 2340 20230226 1440  2.514 -158.61   59.28    -4.2     0.0    387 0    -7.4 C 0    56 0 -99.000 -9999.0  1239 0   2.57 0',\n",
       " '23583 20230226 2345 20230226 1445  2.514 -158.61   59.28    -4.1     0.0    385 0    -7.3 C 0    55 0 -99.000 -9999.0  1240 0   2.15 0',\n",
       " '23583 20230226 2350 20230226 1450  2.514 -158.61   59.28    -4.0     0.0    382 0    -7.4 C 0    54 0 -99.000 -9999.0  1241 0   2.19 0',\n",
       " '23583 20230226 2355 20230226 1455  2.514 -158.61   59.28    -3.9     0.0    380 0    -7.3 C 0    54 0 -99.000 -9999.0  1241 0   1.91 0',\n",
       " '23583 20230227 2005 20230227 1105  2.514 -158.61   59.28   -15.2     0.0    185 0   -18.2 C 0    54 0 -99.000 -9999.0  1234 0   2.30 0',\n",
       " '23583 20230227 2010 20230227 1110  2.514 -158.61   59.28   -15.0     0.0    221 0   -17.8 C 0    53 0 -99.000 -9999.0  1235 0   2.05 0',\n",
       " '23583 20230227 2015 20230227 1115  2.514 -158.61   59.28   -14.8     0.0    233 0   -17.4 C 0    53 0 -99.000 -9999.0  1234 0   1.84 0',\n",
       " '23583 20230227 2020 20230227 1120  2.514 -158.61   59.28   -14.5     0.0    239 0   -17.3 C 0    52 0 -99.000 -9999.0  1236 0   2.32 0',\n",
       " '23583 20230227 2025 20230227 1125  2.514 -158.61   59.28   -14.3     0.0    253 0   -17.1 C 0    52 0 -99.000 -9999.0  1235 0   2.59 0',\n",
       " '23583 20230227 2030 20230227 1130  2.514 -158.61   59.28   -14.2     0.0    259 0   -16.8 C 0    51 0 -99.000 -9999.0  1236 0   2.32 0',\n",
       " '23583 20230227 2035 20230227 1135  2.514 -158.61   59.28   -14.2     0.0    242 0   -16.8 C 0    51 0 -99.000 -9999.0  1236 0   2.04 0',\n",
       " '23583 20230227 2040 20230227 1140  2.514 -158.61   59.28   -14.3     0.0    232 0   -17.1 C 0    52 0 -99.000 -9999.0  1234 0   2.24 0',\n",
       " '23583 20230227 2045 20230227 1145  2.514 -158.61   59.28   -14.3     0.0    292 0   -16.5 C 0    52 0 -99.000 -9999.0  1238 0   1.32 0',\n",
       " '23583 20230227 2050 20230227 1150  2.514 -158.61   59.28   -14.1     0.0    312 0   -16.0 C 0    51 0 -99.000 -9999.0  1238 0   1.16 0',\n",
       " '23583 20230227 2055 20230227 1155  2.514 -158.61   59.28   -13.9     0.0    318 0   -15.9 C 0    51 0 -99.000 -9999.0  1236 0   1.95 0',\n",
       " '23583 20230227 2100 20230227 1200  2.514 -158.61   59.28   -13.9     0.0    250 0   -16.2 C 0    51 0 -99.000 -9999.0  1238 0   1.75 0',\n",
       " '23583 20230227 2105 20230227 1205  2.514 -158.61   59.28   -13.8     0.0    275 0   -15.9 C 0    51 0 -99.000 -9999.0  1219 0   1.86 0',\n",
       " '23583 20230227 2110 20230227 1210  2.514 -158.61   59.28   -13.7     0.0    263 0   -15.6 C 0    51 0 -99.000 -9999.0  1219 0   1.43 0',\n",
       " '23583 20230227 2115 20230227 1215  2.514 -158.61   59.28   -13.6     0.0    314 0   -15.1 C 0    50 0 -99.000 -9999.0  1237 0   1.43 0',\n",
       " '23583 20230227 2120 20230227 1220  2.514 -158.61   59.28   -13.3     0.0    391 0   -14.1 C 0    50 0 -99.000 -9999.0  1239 0   1.84 0',\n",
       " '23583 20230227 2125 20230227 1225  2.514 -158.61   59.28   -13.0     0.0    296 0   -14.1 C 0    49 0 -99.000 -9999.0  1237 0   1.82 0',\n",
       " '23583 20230227 2130 20230227 1230  2.514 -158.61   59.28   -13.0     0.0    311 0   -14.3 C 0    49 0 -99.000 -9999.0  1235 0   2.92 0',\n",
       " '23583 20230227 2135 20230227 1235  2.514 -158.61   59.28   -12.8     0.0    319 0   -13.7 C 0    49 0 -99.000 -9999.0  1236 0   2.61 0',\n",
       " '23583 20230227 2140 20230227 1240  2.514 -158.61   59.28   -12.8     0.0    255 0   -14.1 C 0    49 0 -99.000 -9999.0  1237 0   2.07 0',\n",
       " '23583 20230227 2145 20230227 1245  2.514 -158.61   59.28   -12.9     0.0    225 0   -14.6 C 0    49 0 -99.000 -9999.0  1236 0   2.18 0',\n",
       " '23583 20230227 2150 20230227 1250  2.514 -158.61   59.28   -13.0     0.0    216 0   -15.0 C 0    50 0 -99.000 -9999.0  1235 0   2.25 0',\n",
       " '23583 20230227 2155 20230227 1255  2.514 -158.61   59.28   -13.0     0.0    257 0   -14.9 C 0    49 0 -99.000 -9999.0  1234 0   2.56 0',\n",
       " '23583 20230227 2200 20230227 1300  2.514 -158.61   59.28   -13.0     0.0    253 0   -15.0 C 0    49 0 -99.000 -9999.0  1234 0   2.78 0',\n",
       " '23583 20230227 2205 20230227 1305  2.514 -158.61   59.28   -12.8     0.0    352 0   -14.1 C 0    49 0 -99.000 -9999.0  1234 0   2.34 0',\n",
       " '23583 20230227 2210 20230227 1310  2.514 -158.61   59.28   -12.6     0.0    318 0   -14.2 C 0    48 0 -99.000 -9999.0  1234 0   2.98 0',\n",
       " '23583 20230227 2215 20230227 1315  2.514 -158.61   59.28   -12.5     0.0    276 0   -14.2 C 0    49 0 -99.000 -9999.0  1235 0   2.13 0',\n",
       " '23583 20230227 2220 20230227 1320  2.514 -158.61   59.28   -12.4     0.0    239 0   -14.5 C 0    48 0 -99.000 -9999.0  1236 0   2.72 0',\n",
       " '23583 20230227 2225 20230227 1325  2.514 -158.61   59.28   -12.4     0.0    222 0   -14.5 C 0    48 0 -99.000 -9999.0  1234 0   2.38 0',\n",
       " '23583 20230227 2230 20230227 1330  2.514 -158.61   59.28   -12.2     0.0    233 0   -14.4 C 0    47 0 -99.000 -9999.0  1233 0   3.23 0',\n",
       " '23583 20230227 2235 20230227 1335  2.514 -158.61   59.28   -12.0     0.0    218 0   -14.1 C 0    47 0 -99.000 -9999.0  1234 0   2.76 0',\n",
       " '23583 20230227 2240 20230227 1340  2.514 -158.61   59.28   -11.8     0.0    234 0   -13.9 C 0    47 0 -99.000 -9999.0  1235 0   2.52 0',\n",
       " '23583 20230227 2245 20230227 1345  2.514 -158.61   59.28   -11.7     0.0    235 0   -13.7 C 0    47 0 -99.000 -9999.0  1236 0   1.99 0',\n",
       " '23583 20230227 2250 20230227 1350  2.514 -158.61   59.28   -11.7     0.0    256 0   -13.7 C 0    47 0 -99.000 -9999.0  1235 0   2.78 0',\n",
       " '23583 20230227 2255 20230227 1355  2.514 -158.61   59.28   -11.7     0.0    252 0   -13.7 C 0    47 0 -99.000 -9999.0  1234 0   2.31 0',\n",
       " '23583 20230227 2300 20230227 1400  2.514 -158.61   59.28   -11.6     0.0    236 0   -13.7 C 0    47 0 -99.000 -9999.0  1236 0   2.16 0',\n",
       " '23583 20230227 2305 20230227 1405  2.514 -158.61   59.28   -11.6     0.0    283 0   -13.5 C 0    47 0 -99.000 -9999.0  1236 0   2.56 0',\n",
       " '23583 20230227 2310 20230227 1410  2.514 -158.61   59.28   -11.5     0.0    267 0   -13.4 C 0    46 0 -99.000 -9999.0  1234 0   2.81 0',\n",
       " '23583 20230227 2315 20230227 1415  2.514 -158.61   59.28   -11.5     0.0    330 0   -13.2 C 0    46 0 -99.000 -9999.0  1235 0   2.60 0',\n",
       " '23583 20230227 2320 20230227 1420  2.514 -158.61   59.28   -11.3     0.0    259 0   -13.3 C 0    46 0 -99.000 -9999.0  1235 0   2.60 0',\n",
       " '23583 20230227 2325 20230227 1425  2.514 -158.61   59.28   -11.3     0.0    215 0   -13.6 C 0    46 0 -99.000 -9999.0  1235 0   2.05 0',\n",
       " '23583 20230227 2330 20230227 1430  2.514 -158.61   59.28   -11.2     0.0    239 0   -13.5 C 0    45 0 -99.000 -9999.0  1236 0   2.10 0',\n",
       " '23583 20230227 2335 20230227 1435  2.514 -158.61   59.28   -11.0     0.0    322 0   -12.9 C 0    42 0 -99.000 -9999.0  1236 0   2.78 0',\n",
       " '23583 20230227 2340 20230227 1440  2.514 -158.61   59.28   -11.0     0.0    323 0   -12.7 C 0    42 0 -99.000 -9999.0  1236 0   2.79 0',\n",
       " '23583 20230227 2345 20230227 1445  2.514 -158.61   59.28   -11.0     0.0    307 0   -12.7 C 0    42 0 -99.000 -9999.0  1235 0   2.63 0',\n",
       " '23583 20230227 2350 20230227 1450  2.514 -158.61   59.28   -11.1     0.0    293 0   -12.8 C 0    42 0 -99.000 -9999.0  1235 0   3.26 0',\n",
       " '23583 20230227 2355 20230227 1455  2.514 -158.61   59.28   -11.0     0.0    255 0   -13.0 C 0    42 0 -99.000 -9999.0  1234 0   3.33 0',\n",
       " '23583 20230228 2005 20230228 1105  2.514 -158.61   59.28    -3.0     0.9     89 0    -3.3 C 0    96 0 -99.000 -9999.0    13 0   2.59 0',\n",
       " '23583 20230228 2010 20230228 1110  2.514 -158.61   59.28    -2.8     0.5     60 0    -3.5 C 0    96 0 -99.000 -9999.0    14 0   2.85 0',\n",
       " '23583 20230228 2015 20230228 1115  2.514 -158.61   59.28    -2.9     0.0     49 0    -3.7 C 0    96 0 -99.000 -9999.0    13 0   2.85 0',\n",
       " '23583 20230228 2020 20230228 1120  2.514 -158.61   59.28    -2.9     0.0     59 0    -3.6 C 0    96 0 -99.000 -9999.0    13 0   1.98 0',\n",
       " '23583 20230228 2025 20230228 1125  2.514 -158.61   59.28    -2.7     0.0     68 0    -3.2 C 0    96 0 -99.000 -9999.0    13 0   2.42 0',\n",
       " '23583 20230228 2030 20230228 1130  2.514 -158.61   59.28    -2.7     0.0     72 0    -2.7 C 0    96 0 -99.000 -9999.0    13 0   1.97 0',\n",
       " '23583 20230228 2035 20230228 1135  2.514 -158.61   59.28    -2.5     0.0     65 0    -2.3 C 0    96 0 -99.000 -9999.0    13 0   2.67 0',\n",
       " '23583 20230228 2040 20230228 1140  2.514 -158.61   59.28    -2.4     0.0     66 0    -2.2 C 0    96 0 -99.000 -9999.0    13 0   3.09 0',\n",
       " '23583 20230228 2045 20230228 1145  2.514 -158.61   59.28    -2.2     0.0     70 0    -2.3 C 0    97 0 -99.000 -9999.0    13 0   3.27 0',\n",
       " '23583 20230228 2050 20230228 1150  2.514 -158.61   59.28    -2.0     2.4     63 0    -2.2 C 0    97 0 -99.000 -9999.0    13 0   3.66 0',\n",
       " '23583 20230228 2055 20230228 1155  2.514 -158.61   59.28    -2.0     0.2     66 0    -2.2 C 0    97 0 -99.000 -9999.0    13 0   4.33 0',\n",
       " '23583 20230228 2100 20230228 1200  2.514 -158.61   59.28    -1.9     0.6     95 0    -2.1 C 0    97 0 -99.000 -9999.0    13 0   4.24 0',\n",
       " '23583 20230228 2105 20230228 1205  2.514 -158.61   59.28    -1.8     0.0    123 0    -2.0 C 0    97 0 -99.000 -9999.0    13 0   4.44 0',\n",
       " '23583 20230228 2110 20230228 1210  2.514 -158.61   59.28    -1.7     0.0     89 0    -1.9 C 0    97 0 -99.000 -9999.0    13 0   4.26 0',\n",
       " '23583 20230228 2115 20230228 1215  2.514 -158.61   59.28    -1.7     0.0     82 0    -2.0 C 0    97 0 -99.000 -9999.0    13 0   4.15 0',\n",
       " '23583 20230228 2120 20230228 1220  2.514 -158.61   59.28    -1.5     0.0    107 0    -1.7 C 0    97 0 -99.000 -9999.0    14 0   3.44 0',\n",
       " '23583 20230228 2125 20230228 1225  2.514 -158.61   59.28    -1.2     0.0     93 0    -1.5 C 0    97 0 -99.000 -9999.0    13 0   3.43 0',\n",
       " '23583 20230228 2130 20230228 1230  2.514 -158.61   59.28    -1.0     0.0    118 0    -1.4 C 0    97 0 -99.000 -9999.0    13 0   3.09 0',\n",
       " '23583 20230228 2135 20230228 1235  2.514 -158.61   59.28    -0.9     0.0    137 0    -1.4 C 0    98 0 -99.000 -9999.0    14 0   3.26 0',\n",
       " '23583 20230228 2140 20230228 1240  2.514 -158.61   59.28    -0.6     0.0    157 0    -1.2 C 0    98 0 -99.000 -9999.0    14 0   2.19 0',\n",
       " '23583 20230228 2145 20230228 1245  2.514 -158.61   59.28    -0.3     0.0    171 0    -0.9 C 0    98 0 -99.000 -9999.0    14 0   1.98 0',\n",
       " '23583 20230228 2150 20230228 1250  2.514 -158.61   59.28     0.1     0.0    232 0    -0.5 C 0    97 0 -99.000 -9999.0  1243 0   2.79 0',\n",
       " '23583 20230228 2155 20230228 1255  2.514 -158.61   59.28     0.6     0.0    217 0    -0.1 C 0    94 0 -99.000 -9999.0  1244 0   3.41 0',\n",
       " '23583 20230228 2200 20230228 1300  2.514 -158.61   59.28     0.6     0.0    224 0     0.2 C 0    93 0 -99.000 -9999.0  1244 0   3.39 0',\n",
       " '23583 20230228 2205 20230228 1305  2.514 -158.61   59.28     0.5     0.0    204 0     0.1 C 0    94 0 -99.000 -9999.0    14 0   2.58 0',\n",
       " '23583 20230228 2210 20230228 1310  2.514 -158.61   59.28     0.9     0.0    181 0     0.1 C 0    92 0 -99.000 -9999.0    14 0   4.35 0',\n",
       " '23583 20230228 2215 20230228 1315  2.514 -158.61   59.28     1.1     0.0    183 0     0.1 C 0    89 0 -99.000 -9999.0  1242 0   5.05 0',\n",
       " '23583 20230228 2220 20230228 1320  2.514 -158.61   59.28     1.2     0.0    176 0     0.1 C 0    87 0 -99.000 -9999.0  1244 0   3.76 0',\n",
       " '23583 20230228 2225 20230228 1325  2.514 -158.61   59.28     1.3     0.0    170 0     0.0 C 0    83 0 -99.000 -9999.0  1245 0   3.92 0',\n",
       " '23583 20230228 2230 20230228 1330  2.514 -158.61   59.28     1.5     0.0    159 0     0.0 C 0    82 0 -99.000 -9999.0  1245 0   3.96 0',\n",
       " '23583 20230228 2235 20230228 1335  2.514 -158.61   59.28     1.6     0.0    106 0     0.0 C 0    81 0 -99.000 -9999.0  1245 0   3.21 0',\n",
       " '23583 20230228 2240 20230228 1340  2.514 -158.61   59.28     1.6     0.0    134 0     0.1 C 0    80 0 -99.000 -9999.0  1245 0   3.15 0',\n",
       " '23583 20230228 2245 20230228 1345  2.514 -158.61   59.28     1.5     0.0    223 0     0.3 C 0    83 0 -99.000 -9999.0  1245 0   2.48 0',\n",
       " '23583 20230228 2250 20230228 1350  2.514 -158.61   59.28     1.4     0.0    214 0     0.1 C 0    86 0 -99.000 -9999.0  1245 0   3.21 0',\n",
       " '23583 20230228 2255 20230228 1355  2.514 -158.61   59.28     1.5     0.0    161 0     0.0 C 0    83 0 -99.000 -9999.0  1245 0   3.31 0',\n",
       " '23583 20230228 2300 20230228 1400  2.514 -158.61   59.28     1.5     0.0    140 0     0.0 C 0    83 0 -99.000 -9999.0  1245 0   3.12 0',\n",
       " '23583 20230228 2305 20230228 1405  2.514 -158.61   59.28     1.5     0.0    133 0     0.0 C 0    82 0 -99.000 -9999.0    14 0   3.16 0',\n",
       " '23583 20230228 2310 20230228 1410  2.514 -158.61   59.28     1.6     0.0    123 0     0.0 C 0    79 0 -99.000 -9999.0    14 0   3.16 0',\n",
       " '23583 20230228 2315 20230228 1415  2.514 -158.61   59.28     1.5     0.0    165 0     0.1 C 0    82 0 -99.000 -9999.0    14 0   2.40 0',\n",
       " '23583 20230228 2320 20230228 1420  2.514 -158.61   59.28     1.5     0.0    215 0     0.2 C 0    84 0 -99.000 -9999.0    16 0   2.09 0',\n",
       " '23583 20230228 2325 20230228 1425  2.514 -158.61   59.28     1.5     0.0    209 0     0.2 C 0    82 0 -99.000 -9999.0  1245 0   2.64 0',\n",
       " '23583 20230228 2330 20230228 1430  2.514 -158.61   59.28     1.8     0.0    229 0     0.2 C 0    81 0 -99.000 -9999.0  1245 0   3.14 0',\n",
       " '23583 20230228 2335 20230228 1435  2.514 -158.61   59.28     1.7     0.0    228 0     0.2 C 0    82 0 -99.000 -9999.0  1245 0   2.99 0',\n",
       " '23583 20230228 2340 20230228 1440  2.514 -158.61   59.28     1.7     0.0    179 0     0.1 C 0    80 0 -99.000 -9999.0  1245 0   2.67 0',\n",
       " '23583 20230228 2345 20230228 1445  2.514 -158.61   59.28     1.7     0.0    190 0     0.1 C 0    82 0 -99.000 -9999.0  1245 0   3.13 0',\n",
       " '23583 20230228 2350 20230228 1450  2.514 -158.61   59.28     1.6     0.0    162 0     0.0 C 0    83 0 -99.000 -9999.0  1244 0   3.24 0',\n",
       " '23583 20230228 2355 20230228 1455  2.514 -158.61   59.28     1.5     0.0    143 0     0.0 C 0    84 0 -99.000 -9999.0  1244 0   2.96 0',\n",
       " '23583 20230301 2005 20230301 1105  2.514 -158.61   59.28    -5.4     0.0     95 0    -8.4 C 0    57 0 -99.000 -9999.0  1239 0   2.71 0',\n",
       " '23583 20230301 2010 20230301 1110  2.514 -158.61   59.28    -5.5     0.0    102 0    -8.9 C 0    58 0 -99.000 -9999.0  1240 0   2.45 0',\n",
       " '23583 20230301 2015 20230301 1115  2.514 -158.61   59.28    -5.5     0.0    148 0    -8.5 C 0    58 0 -99.000 -9999.0  1239 0   2.96 0',\n",
       " '23583 20230301 2020 20230301 1120  2.514 -158.61   59.28    -5.4     0.0    205 0    -7.8 C 0    58 0 -99.000 -9999.0  1240 0   2.42 0',\n",
       " '23583 20230301 2025 20230301 1125  2.514 -158.61   59.28    -5.3     0.0    151 0    -7.8 C 0    58 0 -99.000 -9999.0  1240 0   2.30 0',\n",
       " '23583 20230301 2030 20230301 1130  2.514 -158.61   59.28    -5.3     0.0    158 0    -7.8 C 0    58 0 -99.000 -9999.0  1240 0   2.74 0',\n",
       " '23583 20230301 2035 20230301 1135  2.514 -158.61   59.28    -5.3     0.0    158 0    -7.8 C 0    59 0 -99.000 -9999.0  1240 0   2.77 0',\n",
       " '23583 20230301 2040 20230301 1140  2.514 -158.61   59.28    -5.4     0.0    149 0    -8.1 C 0    60 0 -99.000 -9999.0  1239 0   3.31 0',\n",
       " '23583 20230301 2045 20230301 1145  2.514 -158.61   59.28    -5.5     0.0    140 0    -8.7 C 0    62 0 -99.000 -9999.0  1240 0   3.16 0',\n",
       " '23583 20230301 2050 20230301 1150  2.514 -158.61   59.28    -5.6     0.0    274 0    -8.2 C 0    65 0 -99.000 -9999.0  1240 0   3.23 0',\n",
       " '23583 20230301 2055 20230301 1155  2.514 -158.61   59.28    -5.6     0.0    234 0    -8.5 C 0    67 0 -99.000 -9999.0  1239 0   3.56 0',\n",
       " '23583 20230301 2100 20230301 1200  2.514 -158.61   59.28    -5.7     0.0    216 0    -8.3 C 0    69 0 -99.000 -9999.0  1239 0   3.87 0',\n",
       " '23583 20230301 2105 20230301 1205  2.514 -158.61   59.28    -6.0     0.0    186 0    -8.6 C 0    70 0 -99.000 -9999.0  1219 0   3.66 0',\n",
       " '23583 20230301 2110 20230301 1210  2.514 -158.61   59.28    -6.0     0.0    203 0    -8.3 C 0    71 0 -99.000 -9999.0  1219 0   2.89 0',\n",
       " '23583 20230301 2115 20230301 1215  2.514 -158.61   59.28    -6.0     0.0    204 0    -8.1 C 0    72 0 -99.000 -9999.0  1237 0   2.28 0',\n",
       " '23583 20230301 2120 20230301 1220  2.514 -158.61   59.28    -6.1     0.0    209 0    -8.2 C 0    67 0 -99.000 -9999.0  1238 0   3.20 0',\n",
       " '23583 20230301 2125 20230301 1225  2.514 -158.61   59.28    -6.2     0.0    190 0    -8.4 C 0    62 0 -99.000 -9999.0  1237 0   3.66 0',\n",
       " '23583 20230301 2130 20230301 1230  2.514 -158.61   59.28    -6.4     0.0    188 0    -8.7 C 0    58 0 -99.000 -9999.0  1237 0   4.09 0',\n",
       " '23583 20230301 2135 20230301 1235  2.514 -158.61   59.28    -6.8     0.0    179 0    -9.0 C 0    57 0 -99.000 -9999.0  1237 0   4.79 0',\n",
       " '23583 20230301 2140 20230301 1240  2.514 -158.61   59.28    -7.0     0.0    166 0    -9.1 C 0    57 0 -99.000 -9999.0  1236 0   4.67 0',\n",
       " '23583 20230301 2145 20230301 1245  2.514 -158.61   59.28    -7.2     0.0    157 0    -9.2 C 0    58 0 -99.000 -9999.0  1236 0   4.50 0',\n",
       " '23583 20230301 2150 20230301 1250  2.514 -158.61   59.28    -7.4     0.0    160 0    -9.4 C 0    60 0 -99.000 -9999.0  1235 0   4.65 0',\n",
       " '23583 20230301 2155 20230301 1255  2.514 -158.61   59.28    -7.7     0.0    166 0    -9.5 C 0    61 0 -99.000 -9999.0  1236 0   4.40 0',\n",
       " '23583 20230301 2200 20230301 1300  2.514 -158.61   59.28    -7.8     0.0    165 0    -9.7 C 0    59 0 -99.000 -9999.0  1236 0   4.64 0',\n",
       " '23583 20230301 2205 20230301 1305  2.514 -158.61   59.28    -7.9     0.0    168 0    -9.8 C 0    57 0 -99.000 -9999.0    13 0   5.10 0',\n",
       " '23583 20230301 2210 20230301 1310  2.514 -158.61   59.28    -8.1     0.0    174 0    -9.9 C 0    58 0 -99.000 -9999.0  1235 0   5.10 0',\n",
       " '23583 20230301 2215 20230301 1315  2.514 -158.61   59.28    -8.2     0.0    192 0    -9.9 C 0    59 0 -99.000 -9999.0  1235 0   4.07 0',\n",
       " '23583 20230301 2220 20230301 1320  2.514 -158.61   59.28    -8.1     0.0    207 0    -9.9 C 0    58 0 -99.000 -9999.0  1235 0   4.54 0',\n",
       " '23583 20230301 2225 20230301 1325  2.514 -158.61   59.28    -8.1     0.0    206 0    -9.9 C 0    58 0 -99.000 -9999.0  1235 0   4.55 0',\n",
       " '23583 20230301 2230 20230301 1330  2.514 -158.61   59.28    -8.2     0.0    216 0   -10.0 C 0    56 0 -99.000 -9999.0  1236 0   4.84 0',\n",
       " '23583 20230301 2235 20230301 1335  2.514 -158.61   59.28    -8.4     0.0    231 0   -10.0 C 0    55 0 -99.000 -9999.0  1234 0   5.31 0',\n",
       " '23583 20230301 2240 20230301 1340  2.514 -158.61   59.28    -8.4     0.0    240 0   -10.0 C 0    53 0 -99.000 -9999.0  1236 0   4.59 0',\n",
       " '23583 20230301 2245 20230301 1345  2.514 -158.61   59.28    -8.4     0.0    253 0    -9.9 C 0    53 0 -99.000 -9999.0  1237 0   3.38 0',\n",
       " '23583 20230301 2250 20230301 1350  2.514 -158.61   59.28    -8.4     0.0    275 0   -10.0 C 0    53 0 -99.000 -9999.0  1236 0   4.16 0',\n",
       " '23583 20230301 2255 20230301 1355  2.514 -158.61   59.28    -8.4     0.0    288 0   -10.1 C 0    53 0 -99.000 -9999.0  1235 0   5.31 0',\n",
       " '23583 20230301 2300 20230301 1400  2.514 -158.61   59.28    -8.5     0.0    305 0    -9.8 C 0    53 0 -99.000 -9999.0  1236 0   4.01 0',\n",
       " '23583 20230301 2305 20230301 1405  2.514 -158.61   59.28    -8.4     0.0    360 0    -9.7 C 0    53 0 -99.000 -9999.0  1236 0   4.62 0',\n",
       " '23583 20230301 2310 20230301 1410  2.514 -158.61   59.28    -8.2     0.0    585 0    -8.3 C 0    52 0 -99.000 -9999.0  1236 0   4.50 0',\n",
       " '23583 20230301 2315 20230301 1415  2.514 -158.61   59.28    -8.1     0.0    605 0    -8.1 C 0    51 0 -99.000 -9999.0  1234 0   4.65 0',\n",
       " '23583 20230301 2320 20230301 1420  2.514 -158.61   59.28    -8.2     0.0    455 0    -8.8 C 0    50 0 -99.000 -9999.0  1236 0   4.48 0',\n",
       " '23583 20230301 2325 20230301 1425  2.514 -158.61   59.28    -8.5     0.0    493 0    -9.0 C 0    51 0 -99.000 -9999.0  1236 0   4.58 0',\n",
       " '23583 20230301 2330 20230301 1430  2.514 -158.61   59.28    -8.8     0.0    296 0   -10.2 C 0    50 0 -99.000 -9999.0  1235 0   5.52 0',\n",
       " '23583 20230301 2335 20230301 1435  2.514 -158.61   59.28    -9.1     0.0    252 0   -10.3 C 0    53 0 -99.000 -9999.0  1234 0   4.82 0',\n",
       " '23583 20230301 2340 20230301 1440  2.514 -158.61   59.28    -9.2     0.0    245 0   -10.3 C 0    53 0 -99.000 -9999.0  1236 0   4.48 0',\n",
       " '23583 20230301 2345 20230301 1445  2.514 -158.61   59.28    -9.3     0.0    251 0   -10.3 C 0    53 0 -99.000 -9999.0  1236 0   4.87 0',\n",
       " '23583 20230301 2350 20230301 1450  2.514 -158.61   59.28    -9.3     0.0    262 0   -10.3 C 0    55 0 -99.000 -9999.0  1236 0   4.49 0',\n",
       " '23583 20230301 2355 20230301 1455  2.514 -158.61   59.28    -9.4     0.0    248 0   -10.5 C 0    54 0 -99.000 -9999.0  1233 0   5.51 0',\n",
       " '23583 20230302 2005 20230302 1105  2.514 -158.61   59.28   -12.5     0.0    234 0   -18.8 C 0    47 0 -99.000 -9999.0  1242 0   0.93 0',\n",
       " '23583 20230302 2010 20230302 1110  2.514 -158.61   59.28   -12.4     0.0    245 0   -18.4 C 0    46 0 -99.000 -9999.0  1241 0   1.05 0',\n",
       " '23583 20230302 2015 20230302 1115  2.514 -158.61   59.28   -12.2     0.0    254 0   -17.7 C 0    45 0 -99.000 -9999.0  1239 0   1.13 0',\n",
       " '23583 20230302 2020 20230302 1120  2.514 -158.61   59.28   -12.0     0.0    260 0   -17.4 C 0    45 0 -99.000 -9999.0  1239 0   1.23 0',\n",
       " '23583 20230302 2025 20230302 1125  2.514 -158.61   59.28   -11.7     0.0    268 0   -16.8 C 0    44 0 -99.000 -9999.0  1242 0   1.08 0',\n",
       " '23583 20230302 2030 20230302 1130  2.514 -158.61   59.28   -11.6     0.0    277 0   -16.5 C 0    43 0 -99.000 -9999.0  1241 0   1.34 0',\n",
       " '23583 20230302 2035 20230302 1135  2.514 -158.61   59.28   -11.6     0.0    285 0   -16.2 C 0    43 0 -99.000 -9999.0  1241 0   1.33 0',\n",
       " '23583 20230302 2040 20230302 1140  2.514 -158.61   59.28   -11.5     0.0    294 0   -15.8 C 0    43 0 -99.000 -9999.0  1243 0   0.81 0',\n",
       " '23583 20230302 2045 20230302 1145  2.514 -158.61   59.28   -11.4     0.0    301 0   -15.8 C 0    43 0 -99.000 -9999.0  1242 0   1.44 0',\n",
       " '23583 20230302 2050 20230302 1150  2.514 -158.61   59.28   -11.3     0.0    308 0   -15.5 C 0    42 0 -99.000 -9999.0  1241 0   1.30 0',\n",
       " '23583 20230302 2055 20230302 1155  2.514 -158.61   59.28   -11.1     0.0    315 0   -15.2 C 0    41 0 -99.000 -9999.0  1242 0   1.31 0',\n",
       " '23583 20230302 2100 20230302 1200  2.514 -158.61   59.28   -11.1     0.0    322 0   -15.1 C 0    41 0 -99.000 -9999.0  1242 0   1.42 0',\n",
       " '23583 20230302 2105 20230302 1205  2.514 -158.61   59.28   -10.9     0.0    328 0   -14.8 C 0    41 0 -99.000 -9999.0  1222 0   1.42 0',\n",
       " '23583 20230302 2110 20230302 1210  2.514 -158.61   59.28   -10.9     0.0    335 0   -14.6 C 0    40 0 -99.000 -9999.0  1222 0   1.33 0',\n",
       " '23583 20230302 2115 20230302 1215  2.514 -158.61   59.28   -10.9     0.0    342 0   -14.4 C 0    40 0 -99.000 -9999.0  1239 0   1.24 0',\n",
       " '23583 20230302 2120 20230302 1220  2.514 -158.61   59.28   -10.8     0.0    347 0   -14.4 C 0    40 0 -99.000 -9999.0  1240 0   1.40 0',\n",
       " '23583 20230302 2125 20230302 1225  2.514 -158.61   59.28   -10.8     0.0    352 0   -14.1 C 0    40 0 -99.000 -9999.0  1241 0   0.98 0',\n",
       " '23583 20230302 2130 20230302 1230  2.514 -158.61   59.28   -10.8     0.0    358 0   -14.0 C 0    40 0 -99.000 -9999.0  1243 0   0.92 0',\n",
       " '23583 20230302 2135 20230302 1235  2.514 -158.61   59.28   -10.6     0.0    364 0   -14.0 C 0    39 0 -99.000 -9999.0  1244 0   1.06 0',\n",
       " '23583 20230302 2140 20230302 1240  2.514 -158.61   59.28   -10.4     0.0    370 0   -13.6 C 0    39 0 -99.000 -9999.0  1244 0   0.58 0',\n",
       " '23583 20230302 2145 20230302 1245  2.514 -158.61   59.28   -10.2     0.0    377 0   -13.7 C 0    38 0 -99.000 -9999.0  1242 0   1.18 0',\n",
       " '23583 20230302 2150 20230302 1250  2.514 -158.61   59.28   -10.1     0.0    383 0   -13.4 C 0    38 0 -99.000 -9999.0  1242 0   1.15 0',\n",
       " '23583 20230302 2155 20230302 1255  2.514 -158.61   59.28   -10.0     0.0    386 0   -13.2 C 0    38 0 -99.000 -9999.0  1243 0   1.20 0',\n",
       " '23583 20230302 2200 20230302 1300  2.514 -158.61   59.28    -9.9     0.0    390 0   -13.0 C 0    38 0 -99.000 -9999.0  1243 0   1.17 0',\n",
       " '23583 20230302 2205 20230302 1305  2.514 -158.61   59.28    -9.6     0.0    393 0   -13.0 C 0    36 0 -99.000 -9999.0  1243 0   1.47 0',\n",
       " '23583 20230302 2210 20230302 1310  2.514 -158.61   59.28    -9.3     0.0    395 0   -12.9 C 0    36 0 -99.000 -9999.0  1241 0   1.85 0',\n",
       " '23583 20230302 2215 20230302 1315  2.514 -158.61   59.28    -9.3     0.0    398 0   -12.7 C 0    35 0 -99.000 -9999.0  1240 0   1.69 0',\n",
       " '23583 20230302 2220 20230302 1320  2.514 -158.61   59.28    -9.4     0.0    402 0   -12.6 C 0    35 0 -99.000 -9999.0  1240 0   1.75 0',\n",
       " '23583 20230302 2225 20230302 1325  2.514 -158.61   59.28    -9.4     0.0    407 0   -12.5 C 0    36 0 -99.000 -9999.0  1241 0   1.73 0',\n",
       " '23583 20230302 2230 20230302 1330  2.514 -158.61   59.28    -9.5     0.0    408 0   -12.4 C 0    36 0 -99.000 -9999.0  1241 0   1.83 0',\n",
       " '23583 20230302 2235 20230302 1335  2.514 -158.61   59.28    -9.5     0.0    410 0   -12.3 C 0    36 0 -99.000 -9999.0  1243 0   1.61 0',\n",
       " '23583 20230302 2240 20230302 1340  2.514 -158.61   59.28    -9.4     0.0    411 0   -12.4 C 0    37 0 -99.000 -9999.0  1242 0   1.89 0',\n",
       " '23583 20230302 2245 20230302 1345  2.514 -158.61   59.28    -9.2     0.0    413 0   -12.1 C 0    37 0 -99.000 -9999.0  1241 0   1.47 0',\n",
       " '23583 20230302 2250 20230302 1350  2.514 -158.61   59.28    -9.0     0.0    414 0   -11.9 C 0    36 0 -99.000 -9999.0  1241 0   1.22 0',\n",
       " '23583 20230302 2255 20230302 1355  2.514 -158.61   59.28    -9.0     0.0    416 0   -11.8 C 0    36 0 -99.000 -9999.0  1241 0   1.08 0',\n",
       " '23583 20230302 2300 20230302 1400  2.514 -158.61   59.28    -8.9     0.0    416 0   -12.0 C 0    35 0 -99.000 -9999.0  1240 0   1.35 0',\n",
       " '23583 20230302 2305 20230302 1405  2.514 -158.61   59.28    -8.7     0.0    416 0   -11.8 C 0    35 0 -99.000 -9999.0  1240 0   1.40 0',\n",
       " '23583 20230302 2310 20230302 1410  2.514 -158.61   59.28    -8.7     0.0    415 0   -11.9 C 0    35 0 -99.000 -9999.0  1240 0   1.56 0',\n",
       " '23583 20230302 2315 20230302 1415  2.514 -158.61   59.28    -8.8     0.0    415 0   -11.8 C 0    35 0 -99.000 -9999.0  1238 0   1.63 0',\n",
       " '23583 20230302 2320 20230302 1420  2.514 -158.61   59.28    -8.9     0.0    414 0   -11.9 C 0    36 0 -99.000 -9999.0  1239 0   1.81 0',\n",
       " '23583 20230302 2325 20230302 1425  2.514 -158.61   59.28    -8.9     0.0    413 0   -11.7 C 0    35 0 -99.000 -9999.0  1240 0   1.48 0',\n",
       " '23583 20230302 2330 20230302 1430  2.514 -158.61   59.28    -8.8     0.0    413 0   -11.8 C 0    35 0 -99.000 -9999.0  1240 0   1.59 0',\n",
       " '23583 20230302 2335 20230302 1435  2.514 -158.61   59.28    -8.8     0.0    412 0   -12.0 C 0    34 0 -99.000 -9999.0  1239 0   2.06 0',\n",
       " '23583 20230302 2340 20230302 1440  2.514 -158.61   59.28    -8.8     0.0    410 0   -11.8 C 0    34 0 -99.000 -9999.0  1239 0   1.55 0',\n",
       " '23583 20230302 2345 20230302 1445  2.514 -158.61   59.28    -8.8     0.0    408 0   -12.0 C 0    34 0 -99.000 -9999.0  1239 0   1.98 0',\n",
       " '23583 20230302 2350 20230302 1450  2.514 -158.61   59.28    -8.7     0.0    405 0   -11.9 C 0    35 0 -99.000 -9999.0  1239 0   1.82 0',\n",
       " '23583 20230302 2355 20230302 1455  2.514 -158.61   59.28    -8.5     0.0    402 0   -11.7 C 0    35 0 -99.000 -9999.0  1241 0   1.38 0',\n",
       " '23583 20230303 2005 20230303 1105  2.514 -158.61   59.28   -16.0     0.0    239 0   -20.0 C 0    71 0 -99.000 -9999.0  1238 0   1.63 0',\n",
       " '23583 20230303 2010 20230303 1110  2.514 -158.61   59.28   -15.5     0.0    248 0   -19.6 C 0    70 0 -99.000 -9999.0  1239 0   1.57 0',\n",
       " '23583 20230303 2015 20230303 1115  2.514 -158.61   59.28   -15.1     0.0    257 0   -19.3 C 0    68 0 -99.000 -9999.0  1237 0   1.68 0',\n",
       " '23583 20230303 2020 20230303 1120  2.514 -158.61   59.28   -14.9     0.0    266 0   -18.9 C 0    67 0 -99.000 -9999.0  1239 0   1.55 0',\n",
       " '23583 20230303 2025 20230303 1125  2.514 -158.61   59.28   -14.6     0.0    275 0   -18.5 C 0    66 0 -99.000 -9999.0  1238 0   2.01 0',\n",
       " '23583 20230303 2030 20230303 1130  2.514 -158.61   59.28   -14.5     0.0    282 0   -18.1 C 0    66 0 -99.000 -9999.0  1237 0   2.82 0',\n",
       " '23583 20230303 2035 20230303 1135  2.514 -158.61   59.28   -14.7     0.0    290 0   -17.8 C 0    66 0 -99.000 -9999.0  1236 0   2.76 0',\n",
       " '23583 20230303 2040 20230303 1140  2.514 -158.61   59.28   -14.8     0.0    299 0   -17.5 C 0    65 0 -99.000 -9999.0  1238 0   2.32 0',\n",
       " '23583 20230303 2045 20230303 1145  2.514 -158.61   59.28   -14.8     0.0    305 0   -17.2 C 0    65 0 -99.000 -9999.0  1238 0   1.63 0',\n",
       " '23583 20230303 2050 20230303 1150  2.514 -158.61   59.28   -14.5     0.0    313 0   -17.0 C 0    63 0 -99.000 -9999.0  1240 0   1.71 0',\n",
       " '23583 20230303 2055 20230303 1155  2.514 -158.61   59.28   -14.2     0.0    321 0   -16.5 C 0    62 0 -99.000 -9999.0  1243 0   0.49 0',\n",
       " '23583 20230303 2100 20230303 1200  2.514 -158.61   59.28   -13.9     0.0    329 0   -16.5 C 0    60 0 -99.000 -9999.0  1245 0   0.61 0']"
      ]
     },
     "execution_count": 65,
     "metadata": {},
     "output_type": "execute_result"
    }
   ],
   "source": [
    "## get latest datetime from the bigquery table \n"
   ]
  }
 ],
 "metadata": {
  "kernelspec": {
   "display_name": "venv",
   "language": "python",
   "name": "python3"
  },
  "language_info": {
   "codemirror_mode": {
    "name": "ipython",
    "version": 3
   },
   "file_extension": ".py",
   "mimetype": "text/x-python",
   "name": "python",
   "nbconvert_exporter": "python",
   "pygments_lexer": "ipython3",
   "version": "3.7.16"
  },
  "orig_nbformat": 4,
  "vscode": {
   "interpreter": {
    "hash": "70623b801652781c2389d9f74154af1ef3dd8a50bfe8b7cd6824c1648ddc5ad0"
   }
  }
 },
 "nbformat": 4,
 "nbformat_minor": 2
}
